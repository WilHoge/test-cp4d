{
 "cells": [
  {
   "cell_type": "code",
   "execution_count": 3,
   "id": "frequent-parts",
   "metadata": {
    "id": "45f14641-6b30-4ccc-b7da-a0d848f0ada0",
    "tags": []
   },
   "outputs": [
    {
     "name": "stdout",
     "output_type": "stream",
     "text": [
      "5\n"
     ]
    }
   ],
   "source": [
    "a=5\n",
    "print(a)"
   ]
  },
  {
   "cell_type": "code",
   "execution_count": 4,
   "id": "sought-procurement",
   "metadata": {
    "id": "afaebaa7-393d-45fb-bf3a-24d204694b3d",
    "tags": []
   },
   "outputs": [
    {
     "name": "stdout",
     "output_type": "stream",
     "text": [
      "+-----+-----------+---------+------+------------+----------------+------------+------------------+------+-------------+---+-------------+--------------------+---------------+---------------+------------+------------+---------+----------+------------+--------------------+-----------------+------------------+------------+-----------------+-----------------+--------------+---------+-------------------+-------------------+------------+----+----------+\n",
      "|Month|WeekOfMonth|DayOfWeek|  Make|AccidentArea|DayOfWeekClaimed|MonthClaimed|WeekOfMonthClaimed|   Sex|MaritalStatus|Age|        Fault|          PolicyType|VehicleCategory|   VehiclePrice|FraudFound_P|PolicyNumber|RepNumber|Deductible|DriverRating|Days_Policy_Accident|Days_Policy_Claim|PastNumberOfClaims|AgeOfVehicle|AgeOfPolicyHolder|PoliceReportFiled|WitnessPresent|AgentType|NumberOfSuppliments|AddressChange_Claim|NumberOfCars|Year|BasePolicy|\n",
      "+-----+-----------+---------+------+------------+----------------+------------+------------------+------+-------------+---+-------------+--------------------+---------------+---------------+------------+------------+---------+----------+------------+--------------------+-----------------+------------------+------------+-----------------+-----------------+--------------+---------+-------------------+-------------------+------------+----+----------+\n",
      "|  Dec|          5|Wednesday| Honda|       Urban|         Tuesday|         Jan|                 1|Female|       Single| 21|Policy Holder|   Sport - Liability|          Sport|more than 69000|           0|           1|       12|       300|           1|        more than 30|     more than 30|              none|     3 years|         26 to 30|               No|            No| External|               none|             1 year|      3 to 4|1994| Liability|\n",
      "|  Jan|          3|Wednesday| Honda|       Urban|          Monday|         Jan|                 4|  Male|       Single| 34|Policy Holder|   Sport - Collision|          Sport|more than 69000|           0|           2|       15|       400|           4|        more than 30|     more than 30|              none|     6 years|         31 to 35|              Yes|            No| External|               none|          no change|   1 vehicle|1994| Collision|\n",
      "|  Oct|          5|   Friday| Honda|       Urban|        Thursday|         Nov|                 2|  Male|      Married| 47|Policy Holder|   Sport - Collision|          Sport|more than 69000|           0|           3|        7|       400|           3|        more than 30|     more than 30|                 1|     7 years|         41 to 50|               No|            No| External|               none|          no change|   1 vehicle|1994| Collision|\n",
      "|  Jun|          2| Saturday|Toyota|       Rural|          Friday|         Jul|                 1|  Male|      Married| 65|  Third Party|   Sedan - Liability|          Sport| 20000 to 29000|           0|           4|        4|       400|           2|        more than 30|     more than 30|                 1| more than 7|         51 to 65|              Yes|            No| External|        more than 5|          no change|   1 vehicle|1994| Liability|\n",
      "|  Jan|          5|   Monday| Honda|       Urban|         Tuesday|         Feb|                 2|Female|       Single| 27|  Third Party|   Sport - Collision|          Sport|more than 69000|           0|           5|        3|       400|           1|        more than 30|     more than 30|              none|     5 years|         31 to 35|               No|            No| External|               none|          no change|   1 vehicle|1994| Collision|\n",
      "|  Oct|          4|   Friday| Honda|       Urban|       Wednesday|         Nov|                 1|  Male|       Single| 20|  Third Party|   Sport - Collision|          Sport|more than 69000|           0|           6|       12|       400|           3|        more than 30|     more than 30|              none|     5 years|         21 to 25|               No|            No| External|             3 to 5|          no change|   1 vehicle|1994| Collision|\n",
      "|  Feb|          1| Saturday| Honda|       Urban|          Monday|         Feb|                 3|  Male|      Married| 36|  Third Party|   Sport - Collision|          Sport|more than 69000|           0|           7|       14|       400|           1|        more than 30|     more than 30|                 1|     7 years|         36 to 40|               No|            No| External|             1 to 2|          no change|   1 vehicle|1994| Collision|\n",
      "|  Nov|          1|   Friday| Honda|       Urban|         Tuesday|         Mar|                 4|  Male|       Single|  0|Policy Holder|   Sport - Collision|          Sport|more than 69000|           0|           8|        1|       400|           4|        more than 30|     more than 30|                 1|         new|         16 to 17|               No|            No| External|               none|          no change|   1 vehicle|1994| Collision|\n",
      "|  Dec|          4| Saturday| Honda|       Urban|       Wednesday|         Dec|                 5|  Male|       Single| 30|Policy Holder|   Sport - Collision|          Sport|more than 69000|           0|           9|        7|       400|           4|        more than 30|     more than 30|              none|     6 years|         31 to 35|               No|           Yes| External|             3 to 5|          no change|   1 vehicle|1994| Collision|\n",
      "|  Apr|          3|  Tuesday|  Ford|       Urban|       Wednesday|         Apr|                 3|  Male|      Married| 42|Policy Holder|Utility - All Perils|        Utility|more than 69000|           0|          10|        7|       400|           1|        more than 30|     more than 30|            2 to 4| more than 7|         36 to 40|               No|            No| External|             3 to 5|          no change|   1 vehicle|1994|All Perils|\n",
      "+-----+-----------+---------+------+------------+----------------+------------+------------------+------+-------------+---+-------------+--------------------+---------------+---------------+------------+------------+---------+----------+------------+--------------------+-----------------+------------------+------------+-----------------+-----------------+--------------+---------+-------------------+-------------------+------------+----+----------+\n",
      "only showing top 10 rows\n",
      "\n"
     ]
    }
   ],
   "source": [
    "import itc_utils.flight_service as itcfs\n",
    "\n",
    "from pyspark.sql import SparkSession\n",
    "spark = SparkSession.builder.getOrCreate()\n",
    "spark.conf.set(\"spark.sql.execution.arrow.pyspark.enabled\", \"true\")\n",
    "\n",
    "readClient = itcfs.get_flight_client()\n",
    "\n",
    "nb_data_request = {\n",
    "    'data_name': \"\"\"insurance_claims_fraud.csv\"\"\",\n",
    "    'interaction_properties': {\n",
    "        #'row_limit': 500\n",
    "    }\n",
    "}\n",
    "\n",
    "flightInfo = itcfs.get_flight_info(readClient, nb_data_request=nb_data_request)\n",
    "\n",
    "data_df_0 = itcfs.read_pandas_and_concat(readClient, flightInfo)\n",
    "sp_df_1 = spark.createDataFrame(data_df_0)\n",
    "sp_df_1.show(10)\n"
   ]
  },
  {
   "cell_type": "code",
   "execution_count": 6,
   "id": "immune-mission",
   "metadata": {
    "id": "7216e81a-f0d9-4c80-aa88-6e0877162033",
    "tags": []
   },
   "outputs": [
    {
     "name": "stdout",
     "output_type": "stream",
     "text": [
      "Collecting koalas\n",
      "  Downloading koalas-1.8.2-py3-none-any.whl (390 kB)\n",
      "\u001b[K     |████████████████████████████████| 390 kB 19.8 MB/s eta 0:00:01\n",
      "\u001b[?25hRequirement already satisfied: numpy>=1.14 in /opt/ibm/conda/miniconda3.8/lib/python3.8/site-packages (from koalas) (1.19.2)\n",
      "Requirement already satisfied: pyarrow>=0.10 in /opt/ibm/conda/miniconda3.8/lib/python3.8/site-packages (from koalas) (3.0.0)\n",
      "Requirement already satisfied: pandas>=0.23.2 in /opt/ibm/conda/miniconda3.8/lib/python3.8/site-packages (from koalas) (1.2.4)\n",
      "Requirement already satisfied: python-dateutil>=2.7.3 in /opt/ibm/conda/miniconda3.8/lib/python3.8/site-packages (from pandas>=0.23.2->koalas) (2.8.1)\n",
      "Requirement already satisfied: pytz>=2017.3 in /opt/ibm/conda/miniconda3.8/lib/python3.8/site-packages (from pandas>=0.23.2->koalas) (2021.1)\n",
      "Requirement already satisfied: six>=1.5 in /opt/ibm/conda/miniconda3.8/lib/python3.8/site-packages (from python-dateutil>=2.7.3->pandas>=0.23.2->koalas) (1.15.0)\n",
      "Installing collected packages: koalas\n",
      "Successfully installed koalas-1.8.2\n"
     ]
    }
   ],
   "source": [
    "!pip install koalas"
   ]
  },
  {
   "cell_type": "code",
   "execution_count": 8,
   "id": "interpreted-technique",
   "metadata": {
    "id": "967d08f3-5ef5-4aab-b506-24602164775c",
    "tags": []
   },
   "outputs": [
    {
     "name": "stderr",
     "output_type": "stream",
     "text": [
      "[W 2022-04-21 15:55:43,087.087 root] 'PYARROW_IGNORE_TIMEZONE' environment variable was not set. It is required to set this environment variable to '1' in both driver and executor sides if you use pyarrow>=2.0.0. Koalas will set it for you but it does not work if there is a Spark context already launched.\n"
     ]
    }
   ],
   "source": [
    "import pandas as pd\n",
    "import numpy as np\n",
    "import databricks.koalas as ks\n",
    "from pyspark.sql import SparkSession"
   ]
  },
  {
   "cell_type": "code",
   "execution_count": 9,
   "id": "present-awareness",
   "metadata": {
    "id": "a5d22aab-6157-450b-974b-156b0e22f762",
    "tags": []
   },
   "outputs": [],
   "source": [
    "kdf = ks.from_pandas(data_df_0)"
   ]
  },
  {
   "cell_type": "code",
   "execution_count": 10,
   "id": "ranging-boring",
   "metadata": {
    "id": "a2b555af-d550-4217-b2b0-7ef7b8304e85",
    "tags": []
   },
   "outputs": [
    {
     "data": {
      "text/plain": [
       "databricks.koalas.frame.DataFrame"
      ]
     },
     "execution_count": 10,
     "metadata": {},
     "output_type": "execute_result"
    }
   ],
   "source": [
    "type(kdf)"
   ]
  },
  {
   "cell_type": "code",
   "execution_count": 12,
   "id": "pending-crime",
   "metadata": {
    "id": "205f25a6-1f8c-4d0d-b639-14c1bc23dbfe",
    "tags": []
   },
   "outputs": [
    {
     "data": {
      "text/html": [
       "<div>\n",
       "<style scoped>\n",
       "    .dataframe tbody tr th:only-of-type {\n",
       "        vertical-align: middle;\n",
       "    }\n",
       "\n",
       "    .dataframe tbody tr th {\n",
       "        vertical-align: top;\n",
       "    }\n",
       "\n",
       "    .dataframe thead th {\n",
       "        text-align: right;\n",
       "    }\n",
       "</style>\n",
       "<table border=\"1\" class=\"dataframe\">\n",
       "  <thead>\n",
       "    <tr style=\"text-align: right;\">\n",
       "      <th></th>\n",
       "      <th>Month</th>\n",
       "      <th>WeekOfMonth</th>\n",
       "      <th>DayOfWeek</th>\n",
       "      <th>Make</th>\n",
       "      <th>AccidentArea</th>\n",
       "      <th>DayOfWeekClaimed</th>\n",
       "      <th>MonthClaimed</th>\n",
       "      <th>WeekOfMonthClaimed</th>\n",
       "      <th>Sex</th>\n",
       "      <th>MaritalStatus</th>\n",
       "      <th>Age</th>\n",
       "      <th>Fault</th>\n",
       "      <th>PolicyType</th>\n",
       "      <th>VehicleCategory</th>\n",
       "      <th>VehiclePrice</th>\n",
       "      <th>FraudFound_P</th>\n",
       "      <th>PolicyNumber</th>\n",
       "      <th>RepNumber</th>\n",
       "      <th>Deductible</th>\n",
       "      <th>DriverRating</th>\n",
       "      <th>Days_Policy_Accident</th>\n",
       "      <th>Days_Policy_Claim</th>\n",
       "      <th>PastNumberOfClaims</th>\n",
       "      <th>AgeOfVehicle</th>\n",
       "      <th>AgeOfPolicyHolder</th>\n",
       "      <th>PoliceReportFiled</th>\n",
       "      <th>WitnessPresent</th>\n",
       "      <th>AgentType</th>\n",
       "      <th>NumberOfSuppliments</th>\n",
       "      <th>AddressChange_Claim</th>\n",
       "      <th>NumberOfCars</th>\n",
       "      <th>Year</th>\n",
       "      <th>BasePolicy</th>\n",
       "    </tr>\n",
       "  </thead>\n",
       "  <tbody>\n",
       "    <tr>\n",
       "      <th>0</th>\n",
       "      <td>Dec</td>\n",
       "      <td>5</td>\n",
       "      <td>Wednesday</td>\n",
       "      <td>Honda</td>\n",
       "      <td>Urban</td>\n",
       "      <td>Tuesday</td>\n",
       "      <td>Jan</td>\n",
       "      <td>1</td>\n",
       "      <td>Female</td>\n",
       "      <td>Single</td>\n",
       "      <td>21</td>\n",
       "      <td>Policy Holder</td>\n",
       "      <td>Sport - Liability</td>\n",
       "      <td>Sport</td>\n",
       "      <td>more than 69000</td>\n",
       "      <td>0</td>\n",
       "      <td>1</td>\n",
       "      <td>12</td>\n",
       "      <td>300</td>\n",
       "      <td>1</td>\n",
       "      <td>more than 30</td>\n",
       "      <td>more than 30</td>\n",
       "      <td>none</td>\n",
       "      <td>3 years</td>\n",
       "      <td>26 to 30</td>\n",
       "      <td>No</td>\n",
       "      <td>No</td>\n",
       "      <td>External</td>\n",
       "      <td>none</td>\n",
       "      <td>1 year</td>\n",
       "      <td>3 to 4</td>\n",
       "      <td>1994</td>\n",
       "      <td>Liability</td>\n",
       "    </tr>\n",
       "    <tr>\n",
       "      <th>1</th>\n",
       "      <td>Jan</td>\n",
       "      <td>3</td>\n",
       "      <td>Wednesday</td>\n",
       "      <td>Honda</td>\n",
       "      <td>Urban</td>\n",
       "      <td>Monday</td>\n",
       "      <td>Jan</td>\n",
       "      <td>4</td>\n",
       "      <td>Male</td>\n",
       "      <td>Single</td>\n",
       "      <td>34</td>\n",
       "      <td>Policy Holder</td>\n",
       "      <td>Sport - Collision</td>\n",
       "      <td>Sport</td>\n",
       "      <td>more than 69000</td>\n",
       "      <td>0</td>\n",
       "      <td>2</td>\n",
       "      <td>15</td>\n",
       "      <td>400</td>\n",
       "      <td>4</td>\n",
       "      <td>more than 30</td>\n",
       "      <td>more than 30</td>\n",
       "      <td>none</td>\n",
       "      <td>6 years</td>\n",
       "      <td>31 to 35</td>\n",
       "      <td>Yes</td>\n",
       "      <td>No</td>\n",
       "      <td>External</td>\n",
       "      <td>none</td>\n",
       "      <td>no change</td>\n",
       "      <td>1 vehicle</td>\n",
       "      <td>1994</td>\n",
       "      <td>Collision</td>\n",
       "    </tr>\n",
       "    <tr>\n",
       "      <th>2</th>\n",
       "      <td>Oct</td>\n",
       "      <td>5</td>\n",
       "      <td>Friday</td>\n",
       "      <td>Honda</td>\n",
       "      <td>Urban</td>\n",
       "      <td>Thursday</td>\n",
       "      <td>Nov</td>\n",
       "      <td>2</td>\n",
       "      <td>Male</td>\n",
       "      <td>Married</td>\n",
       "      <td>47</td>\n",
       "      <td>Policy Holder</td>\n",
       "      <td>Sport - Collision</td>\n",
       "      <td>Sport</td>\n",
       "      <td>more than 69000</td>\n",
       "      <td>0</td>\n",
       "      <td>3</td>\n",
       "      <td>7</td>\n",
       "      <td>400</td>\n",
       "      <td>3</td>\n",
       "      <td>more than 30</td>\n",
       "      <td>more than 30</td>\n",
       "      <td>1</td>\n",
       "      <td>7 years</td>\n",
       "      <td>41 to 50</td>\n",
       "      <td>No</td>\n",
       "      <td>No</td>\n",
       "      <td>External</td>\n",
       "      <td>none</td>\n",
       "      <td>no change</td>\n",
       "      <td>1 vehicle</td>\n",
       "      <td>1994</td>\n",
       "      <td>Collision</td>\n",
       "    </tr>\n",
       "    <tr>\n",
       "      <th>3</th>\n",
       "      <td>Jun</td>\n",
       "      <td>2</td>\n",
       "      <td>Saturday</td>\n",
       "      <td>Toyota</td>\n",
       "      <td>Rural</td>\n",
       "      <td>Friday</td>\n",
       "      <td>Jul</td>\n",
       "      <td>1</td>\n",
       "      <td>Male</td>\n",
       "      <td>Married</td>\n",
       "      <td>65</td>\n",
       "      <td>Third Party</td>\n",
       "      <td>Sedan - Liability</td>\n",
       "      <td>Sport</td>\n",
       "      <td>20000 to 29000</td>\n",
       "      <td>0</td>\n",
       "      <td>4</td>\n",
       "      <td>4</td>\n",
       "      <td>400</td>\n",
       "      <td>2</td>\n",
       "      <td>more than 30</td>\n",
       "      <td>more than 30</td>\n",
       "      <td>1</td>\n",
       "      <td>more than 7</td>\n",
       "      <td>51 to 65</td>\n",
       "      <td>Yes</td>\n",
       "      <td>No</td>\n",
       "      <td>External</td>\n",
       "      <td>more than 5</td>\n",
       "      <td>no change</td>\n",
       "      <td>1 vehicle</td>\n",
       "      <td>1994</td>\n",
       "      <td>Liability</td>\n",
       "    </tr>\n",
       "    <tr>\n",
       "      <th>4</th>\n",
       "      <td>Jan</td>\n",
       "      <td>5</td>\n",
       "      <td>Monday</td>\n",
       "      <td>Honda</td>\n",
       "      <td>Urban</td>\n",
       "      <td>Tuesday</td>\n",
       "      <td>Feb</td>\n",
       "      <td>2</td>\n",
       "      <td>Female</td>\n",
       "      <td>Single</td>\n",
       "      <td>27</td>\n",
       "      <td>Third Party</td>\n",
       "      <td>Sport - Collision</td>\n",
       "      <td>Sport</td>\n",
       "      <td>more than 69000</td>\n",
       "      <td>0</td>\n",
       "      <td>5</td>\n",
       "      <td>3</td>\n",
       "      <td>400</td>\n",
       "      <td>1</td>\n",
       "      <td>more than 30</td>\n",
       "      <td>more than 30</td>\n",
       "      <td>none</td>\n",
       "      <td>5 years</td>\n",
       "      <td>31 to 35</td>\n",
       "      <td>No</td>\n",
       "      <td>No</td>\n",
       "      <td>External</td>\n",
       "      <td>none</td>\n",
       "      <td>no change</td>\n",
       "      <td>1 vehicle</td>\n",
       "      <td>1994</td>\n",
       "      <td>Collision</td>\n",
       "    </tr>\n",
       "  </tbody>\n",
       "</table>\n",
       "</div>"
      ],
      "text/plain": [
       "  Month WeekOfMonth  DayOfWeek    Make AccidentArea DayOfWeekClaimed MonthClaimed WeekOfMonthClaimed     Sex MaritalStatus Age          Fault         PolicyType VehicleCategory     VehiclePrice FraudFound_P PolicyNumber RepNumber Deductible DriverRating Days_Policy_Accident Days_Policy_Claim PastNumberOfClaims AgeOfVehicle AgeOfPolicyHolder PoliceReportFiled WitnessPresent AgentType NumberOfSuppliments AddressChange_Claim NumberOfCars  Year BasePolicy\n",
       "0   Dec           5  Wednesday   Honda        Urban          Tuesday          Jan                  1  Female        Single  21  Policy Holder  Sport - Liability           Sport  more than 69000            0            1        12        300            1         more than 30      more than 30               none      3 years          26 to 30                No             No  External                none              1 year       3 to 4  1994  Liability\n",
       "1   Jan           3  Wednesday   Honda        Urban           Monday          Jan                  4    Male        Single  34  Policy Holder  Sport - Collision           Sport  more than 69000            0            2        15        400            4         more than 30      more than 30               none      6 years          31 to 35               Yes             No  External                none           no change    1 vehicle  1994  Collision\n",
       "2   Oct           5     Friday   Honda        Urban         Thursday          Nov                  2    Male       Married  47  Policy Holder  Sport - Collision           Sport  more than 69000            0            3         7        400            3         more than 30      more than 30                  1      7 years          41 to 50                No             No  External                none           no change    1 vehicle  1994  Collision\n",
       "3   Jun           2   Saturday  Toyota        Rural           Friday          Jul                  1    Male       Married  65    Third Party  Sedan - Liability           Sport   20000 to 29000            0            4         4        400            2         more than 30      more than 30                  1  more than 7          51 to 65               Yes             No  External         more than 5           no change    1 vehicle  1994  Liability\n",
       "4   Jan           5     Monday   Honda        Urban          Tuesday          Feb                  2  Female        Single  27    Third Party  Sport - Collision           Sport  more than 69000            0            5         3        400            1         more than 30      more than 30               none      5 years          31 to 35                No             No  External                none           no change    1 vehicle  1994  Collision"
      ]
     },
     "execution_count": 12,
     "metadata": {},
     "output_type": "execute_result"
    }
   ],
   "source": [
    "kdf.head()"
   ]
  },
  {
   "cell_type": "code",
   "execution_count": null,
   "id": "magnetic-magnet",
   "metadata": {
    "id": "cc2d5fc5-58ed-4490-ab1a-01415119c069"
   },
   "outputs": [],
   "source": []
  }
 ],
 "metadata": {
  "kernelspec": {
   "display_name": "Python 3.8 with Spark",
   "language": "python3",
   "name": "python38"
  },
  "language_info": {
   "codemirror_mode": {
    "name": "ipython",
    "version": 3
   },
   "file_extension": ".py",
   "mimetype": "text/x-python",
   "name": "python",
   "nbconvert_exporter": "python",
   "pygments_lexer": "ipython3",
   "version": "3.8.12"
  }
 },
 "nbformat": 4,
 "nbformat_minor": 5
}
