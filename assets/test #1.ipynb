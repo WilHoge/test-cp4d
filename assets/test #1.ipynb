{
 "cells": [
  {
   "cell_type": "code",
   "execution_count": null,
   "id": "chronic-liechtenstein",
   "metadata": {},
   "outputs": [],
   "source": [
    "a=1\n",
    "print(a)"
   ]
  },
  {
   "cell_type": "code",
   "execution_count": null,
   "id": "signed-security",
   "metadata": {},
   "outputs": [],
   "source": [
    "import itc_utils.flight_service as itcfs\n",
    "\n",
    "from pyspark.sql import SparkSession\n",
    "spark = SparkSession.builder.getOrCreate()\n",
    "spark.conf.set(\"spark.sql.execution.arrow.pyspark.enabled\", \"true\")\n",
    "\n",
    "readClient = itcfs.get_flight_client()\n",
    "\n",
    "nb_data_request = {\n",
    "    'data_name': \"\"\"insurance_claims_fraud.csv\"\"\",\n",
    "    'interaction_properties': {\n",
    "    }\n",
    "}\n",
    "\n",
    "flightInfo = itcfs.get_flight_info(readClient, nb_data_request=nb_data_request)\n",
    "\n",
    "data_df_0 = itcfs.read_pandas_and_concat(readClient, flightInfo)\n",
    "sp_df_1 = spark.createDataFrame(data_df_0)\n",
    "sp_df_1.show(10)\n"
   ]
  }
 ],
 "metadata": {
  "kernelspec": {
   "display_name": "",
   "name": ""
  },
  "language_info": {
   "name": ""
  }
 },
 "nbformat": 4,
 "nbformat_minor": 5
}
