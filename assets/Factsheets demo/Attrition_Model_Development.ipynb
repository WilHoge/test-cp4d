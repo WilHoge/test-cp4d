{
 "cells": [
  {
   "cell_type": "markdown",
   "metadata": {
    "id": "c51fc7ca8ea042f286135d5419dca775"
   },
   "source": [
    "# Load Packages"
   ]
  },
  {
   "cell_type": "code",
   "execution_count": 1,
   "metadata": {
    "id": "3900265e7f9d49e2820aa857a17b1732",
    "tags": []
   },
   "outputs": [
    {
     "name": "stdout",
     "output_type": "stream",
     "text": [
      "Collecting ibm-aigov-facts-client\n",
      "  Downloading ibm_aigov_facts_client-1.0.44-py3-none-any.whl (140 kB)\n",
      "\u001b[2K     \u001b[90m━━━━━━━━━━━━━━━━━━━━━━━━━━━━━━━━━━━━━━\u001b[0m \u001b[32m140.0/140.0 kB\u001b[0m \u001b[31m13.6 MB/s\u001b[0m eta \u001b[36m0:00:00\u001b[0m\n",
      "\u001b[?25hRequirement already satisfied: numpy in /opt/conda/envs/Python-3.10-Premium/lib/python3.10/site-packages (from ibm-aigov-facts-client) (1.23.1)\n",
      "Collecting python-magic\n",
      "  Downloading python_magic-0.4.27-py2.py3-none-any.whl (13 kB)\n",
      "Collecting sqlparse>=0.3.1\n",
      "  Downloading sqlparse-0.4.3-py3-none-any.whl (42 kB)\n",
      "\u001b[2K     \u001b[90m━━━━━━━━━━━━━━━━━━━━━━━━━━━━━━━━━━━━━━━━\u001b[0m \u001b[32m42.8/42.8 kB\u001b[0m \u001b[31m29.6 MB/s\u001b[0m eta \u001b[36m0:00:00\u001b[0m\n",
      "\u001b[?25hRequirement already satisfied: requests<3.0,>=2.0 in /opt/conda/envs/Python-3.10-Premium/lib/python3.10/site-packages (from ibm-aigov-facts-client) (2.28.1)\n",
      "Requirement already satisfied: ibm-cloud-sdk-core>=3.5.2 in /opt/conda/envs/Python-3.10-Premium/lib/python3.10/site-packages (from ibm-aigov-facts-client) (3.10.1)\n",
      "Collecting timeout-decorator\n",
      "  Downloading timeout-decorator-0.5.0.tar.gz (4.8 kB)\n",
      "  Preparing metadata (setup.py) ... \u001b[?25ldone\n",
      "\u001b[?25hCollecting mlflow-skinny==1.28.0\n",
      "  Downloading mlflow_skinny-1.28.0-py3-none-any.whl (3.5 MB)\n",
      "\u001b[2K     \u001b[90m━━━━━━━━━━━━━━━━━━━━━━━━━━━━━━━━━━━━━━━━\u001b[0m \u001b[32m3.5/3.5 MB\u001b[0m \u001b[31m115.3 MB/s\u001b[0m eta \u001b[36m0:00:00\u001b[0m\n",
      "\u001b[?25hCollecting docutils<0.16,>=0.10\n",
      "  Downloading docutils-0.15.2-py3-none-any.whl (547 kB)\n",
      "\u001b[2K     \u001b[90m━━━━━━━━━━━━━━━━━━━━━━━━━━━━━━━━━━━━━━\u001b[0m \u001b[32m547.6/547.6 kB\u001b[0m \u001b[31m51.0 MB/s\u001b[0m eta \u001b[36m0:00:00\u001b[0m\n",
      "\u001b[?25hRequirement already satisfied: pandas in /opt/conda/envs/Python-3.10-Premium/lib/python3.10/site-packages (from ibm-aigov-facts-client) (1.4.3)\n",
      "Collecting gitpython<4,>=2.1.0\n",
      "  Downloading GitPython-3.1.30-py3-none-any.whl (184 kB)\n",
      "\u001b[2K     \u001b[90m━━━━━━━━━━━━━━━━━━━━━━━━━━━━━━━━━━━━━━\u001b[0m \u001b[32m184.0/184.0 kB\u001b[0m \u001b[31m54.9 MB/s\u001b[0m eta \u001b[36m0:00:00\u001b[0m\n",
      "\u001b[?25hRequirement already satisfied: cloudpickle<3 in /opt/conda/envs/Python-3.10-Premium/lib/python3.10/site-packages (from mlflow-skinny==1.28.0->ibm-aigov-facts-client) (2.1.0)\n",
      "Requirement already satisfied: importlib-metadata!=4.7.0,<5,>=3.7.0 in /opt/conda/envs/Python-3.10-Premium/lib/python3.10/site-packages (from mlflow-skinny==1.28.0->ibm-aigov-facts-client) (4.11.3)\n",
      "Collecting databricks-cli<1,>=0.8.7\n",
      "  Downloading databricks-cli-0.17.4.tar.gz (82 kB)\n",
      "\u001b[2K     \u001b[90m━━━━━━━━━━━━━━━━━━━━━━━━━━━━━━━━━━━━━━━━\u001b[0m \u001b[32m82.3/82.3 kB\u001b[0m \u001b[31m58.3 MB/s\u001b[0m eta \u001b[36m0:00:00\u001b[0m\n",
      "\u001b[?25h  Preparing metadata (setup.py) ... \u001b[?25ldone\n",
      "\u001b[?25hRequirement already satisfied: pyyaml<7,>=5.1 in /opt/conda/envs/Python-3.10-Premium/lib/python3.10/site-packages/PyYAML-6.0-py3.10-linux-x86_64.egg (from mlflow-skinny==1.28.0->ibm-aigov-facts-client) (6.0)\n",
      "Requirement already satisfied: protobuf<5,>=3.12.0 in /opt/conda/envs/Python-3.10-Premium/lib/python3.10/site-packages (from mlflow-skinny==1.28.0->ibm-aigov-facts-client) (3.19.1)\n",
      "Requirement already satisfied: packaging<22 in /opt/conda/envs/Python-3.10-Premium/lib/python3.10/site-packages (from mlflow-skinny==1.28.0->ibm-aigov-facts-client) (21.3)\n",
      "Requirement already satisfied: click<9,>=7.0 in /opt/conda/envs/Python-3.10-Premium/lib/python3.10/site-packages (from mlflow-skinny==1.28.0->ibm-aigov-facts-client) (8.0.4)\n",
      "Requirement already satisfied: pytz<2023 in /opt/conda/envs/Python-3.10-Premium/lib/python3.10/site-packages (from mlflow-skinny==1.28.0->ibm-aigov-facts-client) (2022.1)\n",
      "Requirement already satisfied: entrypoints<1 in /opt/conda/envs/Python-3.10-Premium/lib/python3.10/site-packages (from mlflow-skinny==1.28.0->ibm-aigov-facts-client) (0.4)\n",
      "Requirement already satisfied: python-dateutil<3.0.0,>=2.5.3 in /opt/conda/envs/Python-3.10-Premium/lib/python3.10/site-packages (from ibm-cloud-sdk-core>=3.5.2->ibm-aigov-facts-client) (2.8.2)\n",
      "Requirement already satisfied: PyJWT<3.0.0,>=2.0.1 in /opt/conda/envs/Python-3.10-Premium/lib/python3.10/site-packages (from ibm-cloud-sdk-core>=3.5.2->ibm-aigov-facts-client) (2.4.0)\n",
      "Requirement already satisfied: urllib3<1.27,>=1.21.1 in /opt/conda/envs/Python-3.10-Premium/lib/python3.10/site-packages (from requests<3.0,>=2.0->ibm-aigov-facts-client) (1.26.11)\n",
      "Requirement already satisfied: certifi>=2017.4.17 in /opt/conda/envs/Python-3.10-Premium/lib/python3.10/site-packages (from requests<3.0,>=2.0->ibm-aigov-facts-client) (2022.9.24)\n",
      "Requirement already satisfied: charset-normalizer<3,>=2 in /opt/conda/envs/Python-3.10-Premium/lib/python3.10/site-packages (from requests<3.0,>=2.0->ibm-aigov-facts-client) (2.0.4)\n",
      "Requirement already satisfied: idna<4,>=2.5 in /opt/conda/envs/Python-3.10-Premium/lib/python3.10/site-packages (from requests<3.0,>=2.0->ibm-aigov-facts-client) (3.3)\n",
      "Requirement already satisfied: oauthlib>=3.1.0 in /opt/conda/envs/Python-3.10-Premium/lib/python3.10/site-packages (from databricks-cli<1,>=0.8.7->mlflow-skinny==1.28.0->ibm-aigov-facts-client) (3.2.1)\n",
      "Requirement already satisfied: tabulate>=0.7.7 in /opt/conda/envs/Python-3.10-Premium/lib/python3.10/site-packages (from databricks-cli<1,>=0.8.7->mlflow-skinny==1.28.0->ibm-aigov-facts-client) (0.8.10)\n",
      "Requirement already satisfied: six>=1.10.0 in /opt/conda/envs/Python-3.10-Premium/lib/python3.10/site-packages (from databricks-cli<1,>=0.8.7->mlflow-skinny==1.28.0->ibm-aigov-facts-client) (1.16.0)\n",
      "Collecting gitdb<5,>=4.0.1\n",
      "  Downloading gitdb-4.0.10-py3-none-any.whl (62 kB)\n",
      "\u001b[2K     \u001b[90m━━━━━━━━━━━━━━━━━━━━━━━━━━━━━━━━━━━━━━━━\u001b[0m \u001b[32m62.7/62.7 kB\u001b[0m \u001b[31m45.9 MB/s\u001b[0m eta \u001b[36m0:00:00\u001b[0m\n",
      "\u001b[?25hRequirement already satisfied: zipp>=0.5 in /opt/conda/envs/Python-3.10-Premium/lib/python3.10/site-packages (from importlib-metadata!=4.7.0,<5,>=3.7.0->mlflow-skinny==1.28.0->ibm-aigov-facts-client) (3.8.0)\n",
      "Requirement already satisfied: pyparsing!=3.0.5,>=2.0.2 in /opt/conda/envs/Python-3.10-Premium/lib/python3.10/site-packages (from packaging<22->mlflow-skinny==1.28.0->ibm-aigov-facts-client) (3.0.9)\n",
      "Collecting smmap<6,>=3.0.1\n",
      "  Downloading smmap-5.0.0-py3-none-any.whl (24 kB)\n",
      "Building wheels for collected packages: timeout-decorator, databricks-cli\n",
      "  Building wheel for timeout-decorator (setup.py) ... \u001b[?25ldone\n",
      "\u001b[?25h  Created wheel for timeout-decorator: filename=timeout_decorator-0.5.0-py3-none-any.whl size=5006 sha256=4ac480f64b541d3a6b79d6f41f5ad883c121cbd35a8676121575b614e6070372\n",
      "  Stored in directory: /tmp/1000650000/.cache/pip/wheels/68/2f/bc/76f1192d474666d41ae6f09813fccbd00fe3f07e8261c4cff5\n",
      "  Building wheel for databricks-cli (setup.py) ... \u001b[?25ldone\n",
      "\u001b[?25h  Created wheel for databricks-cli: filename=databricks_cli-0.17.4-py3-none-any.whl size=142875 sha256=d63c51837c7a6229267cd797cabf51918dfe36b42928be08bcda670a800e0597\n",
      "  Stored in directory: /tmp/1000650000/.cache/pip/wheels/41/be/06/bc72f2e4531c6276093edfb0f94e3d9742217bc760145f5714\n",
      "Successfully built timeout-decorator databricks-cli\n",
      "Installing collected packages: timeout-decorator, sqlparse, smmap, python-magic, docutils, gitdb, databricks-cli, gitpython, mlflow-skinny, ibm-aigov-facts-client\n",
      "Successfully installed databricks-cli-0.17.4 docutils-0.15.2 gitdb-4.0.10 gitpython-3.1.30 ibm-aigov-facts-client-1.0.44 mlflow-skinny-1.28.0 python-magic-0.4.27 smmap-5.0.0 sqlparse-0.4.3 timeout-decorator-0.5.0\n"
     ]
    }
   ],
   "source": [
    "import warnings\n",
    "warnings.filterwarnings('ignore')\n",
    "\n",
    "try:\n",
    "    from ibm_aigov_facts_client import AIGovFactsClient\n",
    "except:\n",
    "    !pip install -U ibm-aigov-facts-client\n",
    "    from ibm_aigov_facts_client import AIGovFactsClient"
   ]
  },
  {
   "cell_type": "code",
   "execution_count": 2,
   "metadata": {
    "id": "e55ce32b9e9641bf849619d66edf69c9",
    "tags": []
   },
   "outputs": [],
   "source": [
    "import os, types\n",
    "import pandas as pd\n",
    "from botocore.client import Config\n",
    "import ibm_boto3\n",
    "from project_lib import Project\n",
    "\n",
    "#sklearn \n",
    "from sklearn.ensemble import RandomForestClassifier,AdaBoostClassifier\n",
    "from sklearn.svm import SVC\n",
    "from sklearn.pipeline import Pipeline\n",
    "from sklearn.preprocessing import StandardScaler\n",
    "from sklearn.model_selection import train_test_split,cross_val_score\n",
    "import os, types\n",
    "from sklearn.metrics import f1_score\n",
    "import numpy as np\n",
    "import joblib\n",
    "import datetime\n",
    "import tempfile\n",
    "\n",
    "#WML\n",
    "from ibm_watson_machine_learning import APIClient\n",
    "\n",
    "#AiGovernance\n",
    "from ibm_aigov_facts_client import AIGovFactsClient,CloudPakforDataConfig\n",
    "import sys"
   ]
  },
  {
   "cell_type": "markdown",
   "metadata": {
    "id": "0b83abb19f1c44b7aeab68999f92146c"
   },
   "source": [
    "# Load Data"
   ]
  },
  {
   "cell_type": "code",
   "execution_count": 5,
   "metadata": {
    "id": "5347b64dde544c7d81f3307f79c8b1f4",
    "tags": []
   },
   "outputs": [
    {
     "data": {
      "text/html": [
       "<div>\n",
       "<style scoped>\n",
       "    .dataframe tbody tr th:only-of-type {\n",
       "        vertical-align: middle;\n",
       "    }\n",
       "\n",
       "    .dataframe tbody tr th {\n",
       "        vertical-align: top;\n",
       "    }\n",
       "\n",
       "    .dataframe thead th {\n",
       "        text-align: right;\n",
       "    }\n",
       "</style>\n",
       "<table border=\"1\" class=\"dataframe\">\n",
       "  <thead>\n",
       "    <tr style=\"text-align: right;\">\n",
       "      <th></th>\n",
       "      <th>POSITION_CODE</th>\n",
       "      <th>DEPARTMENT_CODE</th>\n",
       "      <th>DAYS_WITH_COMPANY</th>\n",
       "      <th>COMMUTE_TIME</th>\n",
       "      <th>AGE_BEGIN_PERIOD</th>\n",
       "      <th>GENDER_CODE</th>\n",
       "      <th>ATTRITION</th>\n",
       "      <th>PERIOD_TOTAL_DAYS</th>\n",
       "      <th>STARTING_SALARY</th>\n",
       "      <th>ENDING_SALARY</th>\n",
       "      <th>...</th>\n",
       "      <th>VACATION_DAYS_TAKEN</th>\n",
       "      <th>SICK_DAYS_TAKEN</th>\n",
       "      <th>PROMOTIONS</th>\n",
       "      <th>NB_MANAGERS</th>\n",
       "      <th>DAYS_IN_POSITION</th>\n",
       "      <th>DAYS_SINCE_LAST_RAISE</th>\n",
       "      <th>RANKING_CODE</th>\n",
       "      <th>OVERTIME</th>\n",
       "      <th>DBLOVERTIME</th>\n",
       "      <th>TRAVEL</th>\n",
       "    </tr>\n",
       "  </thead>\n",
       "  <tbody>\n",
       "    <tr>\n",
       "      <th>0</th>\n",
       "      <td>1200</td>\n",
       "      <td>200</td>\n",
       "      <td>1825</td>\n",
       "      <td>29</td>\n",
       "      <td>55</td>\n",
       "      <td>False</td>\n",
       "      <td>False</td>\n",
       "      <td>330</td>\n",
       "      <td>159230.77</td>\n",
       "      <td>161538.46</td>\n",
       "      <td>...</td>\n",
       "      <td>28</td>\n",
       "      <td>10.5</td>\n",
       "      <td>False</td>\n",
       "      <td>1</td>\n",
       "      <td>1825</td>\n",
       "      <td>0</td>\n",
       "      <td>3</td>\n",
       "      <td>0.0</td>\n",
       "      <td>0.0</td>\n",
       "      <td>False</td>\n",
       "    </tr>\n",
       "    <tr>\n",
       "      <th>1</th>\n",
       "      <td>1200</td>\n",
       "      <td>200</td>\n",
       "      <td>2615</td>\n",
       "      <td>0</td>\n",
       "      <td>49</td>\n",
       "      <td>False</td>\n",
       "      <td>False</td>\n",
       "      <td>180</td>\n",
       "      <td>181153.85</td>\n",
       "      <td>183846.15</td>\n",
       "      <td>...</td>\n",
       "      <td>15</td>\n",
       "      <td>4.0</td>\n",
       "      <td>False</td>\n",
       "      <td>1</td>\n",
       "      <td>2615</td>\n",
       "      <td>60</td>\n",
       "      <td>3</td>\n",
       "      <td>0.0</td>\n",
       "      <td>0.0</td>\n",
       "      <td>False</td>\n",
       "    </tr>\n",
       "    <tr>\n",
       "      <th>2</th>\n",
       "      <td>1300</td>\n",
       "      <td>320</td>\n",
       "      <td>1609</td>\n",
       "      <td>30</td>\n",
       "      <td>44</td>\n",
       "      <td>True</td>\n",
       "      <td>False</td>\n",
       "      <td>330</td>\n",
       "      <td>129692.31</td>\n",
       "      <td>132923.08</td>\n",
       "      <td>...</td>\n",
       "      <td>20</td>\n",
       "      <td>15.0</td>\n",
       "      <td>False</td>\n",
       "      <td>1</td>\n",
       "      <td>1609</td>\n",
       "      <td>150</td>\n",
       "      <td>3</td>\n",
       "      <td>0.0</td>\n",
       "      <td>0.0</td>\n",
       "      <td>False</td>\n",
       "    </tr>\n",
       "    <tr>\n",
       "      <th>3</th>\n",
       "      <td>1300</td>\n",
       "      <td>320</td>\n",
       "      <td>2035</td>\n",
       "      <td>13</td>\n",
       "      <td>45</td>\n",
       "      <td>False</td>\n",
       "      <td>False</td>\n",
       "      <td>330</td>\n",
       "      <td>146769.23</td>\n",
       "      <td>150461.54</td>\n",
       "      <td>...</td>\n",
       "      <td>28</td>\n",
       "      <td>8.0</td>\n",
       "      <td>False</td>\n",
       "      <td>1</td>\n",
       "      <td>2035</td>\n",
       "      <td>210</td>\n",
       "      <td>3</td>\n",
       "      <td>0.0</td>\n",
       "      <td>0.0</td>\n",
       "      <td>False</td>\n",
       "    </tr>\n",
       "    <tr>\n",
       "      <th>4</th>\n",
       "      <td>1400</td>\n",
       "      <td>380</td>\n",
       "      <td>1885</td>\n",
       "      <td>31</td>\n",
       "      <td>44</td>\n",
       "      <td>False</td>\n",
       "      <td>False</td>\n",
       "      <td>330</td>\n",
       "      <td>146769.23</td>\n",
       "      <td>150461.54</td>\n",
       "      <td>...</td>\n",
       "      <td>26</td>\n",
       "      <td>11.5</td>\n",
       "      <td>False</td>\n",
       "      <td>1</td>\n",
       "      <td>1885</td>\n",
       "      <td>60</td>\n",
       "      <td>3</td>\n",
       "      <td>0.0</td>\n",
       "      <td>0.0</td>\n",
       "      <td>False</td>\n",
       "    </tr>\n",
       "    <tr>\n",
       "      <th>5</th>\n",
       "      <td>1400</td>\n",
       "      <td>380</td>\n",
       "      <td>3070</td>\n",
       "      <td>35</td>\n",
       "      <td>40</td>\n",
       "      <td>False</td>\n",
       "      <td>False</td>\n",
       "      <td>330</td>\n",
       "      <td>157846.15</td>\n",
       "      <td>161538.46</td>\n",
       "      <td>...</td>\n",
       "      <td>19</td>\n",
       "      <td>12.5</td>\n",
       "      <td>False</td>\n",
       "      <td>1</td>\n",
       "      <td>3070</td>\n",
       "      <td>150</td>\n",
       "      <td>3</td>\n",
       "      <td>0.0</td>\n",
       "      <td>0.0</td>\n",
       "      <td>False</td>\n",
       "    </tr>\n",
       "    <tr>\n",
       "      <th>6</th>\n",
       "      <td>1400</td>\n",
       "      <td>380</td>\n",
       "      <td>1825</td>\n",
       "      <td>9</td>\n",
       "      <td>40</td>\n",
       "      <td>True</td>\n",
       "      <td>False</td>\n",
       "      <td>330</td>\n",
       "      <td>146769.23</td>\n",
       "      <td>150461.54</td>\n",
       "      <td>...</td>\n",
       "      <td>20</td>\n",
       "      <td>9.0</td>\n",
       "      <td>False</td>\n",
       "      <td>1</td>\n",
       "      <td>1825</td>\n",
       "      <td>0</td>\n",
       "      <td>3</td>\n",
       "      <td>0.0</td>\n",
       "      <td>0.0</td>\n",
       "      <td>False</td>\n",
       "    </tr>\n",
       "    <tr>\n",
       "      <th>7</th>\n",
       "      <td>1500</td>\n",
       "      <td>300</td>\n",
       "      <td>2035</td>\n",
       "      <td>11</td>\n",
       "      <td>46</td>\n",
       "      <td>False</td>\n",
       "      <td>False</td>\n",
       "      <td>330</td>\n",
       "      <td>132923.08</td>\n",
       "      <td>136153.85</td>\n",
       "      <td>...</td>\n",
       "      <td>10</td>\n",
       "      <td>9.0</td>\n",
       "      <td>False</td>\n",
       "      <td>1</td>\n",
       "      <td>2035</td>\n",
       "      <td>210</td>\n",
       "      <td>3</td>\n",
       "      <td>0.0</td>\n",
       "      <td>0.0</td>\n",
       "      <td>False</td>\n",
       "    </tr>\n",
       "    <tr>\n",
       "      <th>8</th>\n",
       "      <td>1500</td>\n",
       "      <td>300</td>\n",
       "      <td>2250</td>\n",
       "      <td>0</td>\n",
       "      <td>45</td>\n",
       "      <td>True</td>\n",
       "      <td>False</td>\n",
       "      <td>180</td>\n",
       "      <td>150461.54</td>\n",
       "      <td>154153.85</td>\n",
       "      <td>...</td>\n",
       "      <td>10</td>\n",
       "      <td>4.0</td>\n",
       "      <td>False</td>\n",
       "      <td>1</td>\n",
       "      <td>2250</td>\n",
       "      <td>60</td>\n",
       "      <td>3</td>\n",
       "      <td>0.0</td>\n",
       "      <td>0.0</td>\n",
       "      <td>False</td>\n",
       "    </tr>\n",
       "    <tr>\n",
       "      <th>9</th>\n",
       "      <td>1600</td>\n",
       "      <td>330</td>\n",
       "      <td>1520</td>\n",
       "      <td>31</td>\n",
       "      <td>46</td>\n",
       "      <td>False</td>\n",
       "      <td>False</td>\n",
       "      <td>330</td>\n",
       "      <td>143076.92</td>\n",
       "      <td>146769.23</td>\n",
       "      <td>...</td>\n",
       "      <td>26</td>\n",
       "      <td>9.5</td>\n",
       "      <td>False</td>\n",
       "      <td>1</td>\n",
       "      <td>1520</td>\n",
       "      <td>60</td>\n",
       "      <td>3</td>\n",
       "      <td>0.0</td>\n",
       "      <td>0.0</td>\n",
       "      <td>False</td>\n",
       "    </tr>\n",
       "  </tbody>\n",
       "</table>\n",
       "<p>10 rows × 23 columns</p>\n",
       "</div>"
      ],
      "text/plain": [
       "   POSITION_CODE  DEPARTMENT_CODE  DAYS_WITH_COMPANY  COMMUTE_TIME  \\\n",
       "0           1200              200               1825            29   \n",
       "1           1200              200               2615             0   \n",
       "2           1300              320               1609            30   \n",
       "3           1300              320               2035            13   \n",
       "4           1400              380               1885            31   \n",
       "5           1400              380               3070            35   \n",
       "6           1400              380               1825             9   \n",
       "7           1500              300               2035            11   \n",
       "8           1500              300               2250             0   \n",
       "9           1600              330               1520            31   \n",
       "\n",
       "   AGE_BEGIN_PERIOD  GENDER_CODE  ATTRITION  PERIOD_TOTAL_DAYS  \\\n",
       "0                55        False      False                330   \n",
       "1                49        False      False                180   \n",
       "2                44         True      False                330   \n",
       "3                45        False      False                330   \n",
       "4                44        False      False                330   \n",
       "5                40        False      False                330   \n",
       "6                40         True      False                330   \n",
       "7                46        False      False                330   \n",
       "8                45         True      False                180   \n",
       "9                46        False      False                330   \n",
       "\n",
       "   STARTING_SALARY  ENDING_SALARY  ...  VACATION_DAYS_TAKEN  SICK_DAYS_TAKEN  \\\n",
       "0        159230.77      161538.46  ...                   28             10.5   \n",
       "1        181153.85      183846.15  ...                   15              4.0   \n",
       "2        129692.31      132923.08  ...                   20             15.0   \n",
       "3        146769.23      150461.54  ...                   28              8.0   \n",
       "4        146769.23      150461.54  ...                   26             11.5   \n",
       "5        157846.15      161538.46  ...                   19             12.5   \n",
       "6        146769.23      150461.54  ...                   20              9.0   \n",
       "7        132923.08      136153.85  ...                   10              9.0   \n",
       "8        150461.54      154153.85  ...                   10              4.0   \n",
       "9        143076.92      146769.23  ...                   26              9.5   \n",
       "\n",
       "   PROMOTIONS  NB_MANAGERS  DAYS_IN_POSITION  DAYS_SINCE_LAST_RAISE  \\\n",
       "0       False            1              1825                      0   \n",
       "1       False            1              2615                     60   \n",
       "2       False            1              1609                    150   \n",
       "3       False            1              2035                    210   \n",
       "4       False            1              1885                     60   \n",
       "5       False            1              3070                    150   \n",
       "6       False            1              1825                      0   \n",
       "7       False            1              2035                    210   \n",
       "8       False            1              2250                     60   \n",
       "9       False            1              1520                     60   \n",
       "\n",
       "   RANKING_CODE  OVERTIME  DBLOVERTIME  TRAVEL  \n",
       "0             3       0.0          0.0   False  \n",
       "1             3       0.0          0.0   False  \n",
       "2             3       0.0          0.0   False  \n",
       "3             3       0.0          0.0   False  \n",
       "4             3       0.0          0.0   False  \n",
       "5             3       0.0          0.0   False  \n",
       "6             3       0.0          0.0   False  \n",
       "7             3       0.0          0.0   False  \n",
       "8             3       0.0          0.0   False  \n",
       "9             3       0.0          0.0   False  \n",
       "\n",
       "[10 rows x 23 columns]"
      ]
     },
     "execution_count": 5,
     "metadata": {},
     "output_type": "execute_result"
    }
   ],
   "source": [
    "\n",
    "import itc_utils.flight_service as itcfs\n",
    "readClient = itcfs.get_flight_client()\n",
    "\n",
    "nb_data_request = {\n",
    "    'data_name': \"\"\"modeling_records_2022.csv\"\"\",\n",
    "    'interaction_properties': {\n",
    "        #'row_limit': 500,\n",
    "        'infer_schema': 'true',\n",
    "        'infer_as_varchar': 'false'\n",
    "    }\n",
    "}\n",
    "\n",
    "flightInfo = itcfs.get_flight_info(readClient, nb_data_request=nb_data_request)\n",
    "\n",
    "df = itcfs.read_pandas_and_concat(readClient, flightInfo, timeout=240)\n",
    "df.head(10)"
   ]
  },
  {
   "cell_type": "code",
   "execution_count": 6,
   "metadata": {
    "id": "e3f5ae3f-50ab-4464-a6c7-e3fa6d41735a",
    "tags": []
   },
   "outputs": [],
   "source": [
    "from sklearn.model_selection import train_test_split\n",
    "\n",
    "X = df.drop(['ATTRITION'], axis=1)  # Features\n",
    "y = df['ATTRITION']  # Labels\n",
    "\n",
    "# Split dataset into training set and test set\n",
    "X_train, X_test, y_train, y_test = train_test_split(X, y, test_size=0.15) # 85% training and 15% test"
   ]
  },
  {
   "cell_type": "code",
   "execution_count": 7,
   "metadata": {
    "id": "6ffc094b-4a20-435f-b897-4591b6fc17a3",
    "tags": []
   },
   "outputs": [
    {
     "data": {
      "text/plain": [
       "['POSITION_CODE',\n",
       " 'DEPARTMENT_CODE',\n",
       " 'DAYS_WITH_COMPANY',\n",
       " 'COMMUTE_TIME',\n",
       " 'AGE_BEGIN_PERIOD',\n",
       " 'GENDER_CODE',\n",
       " 'PERIOD_TOTAL_DAYS',\n",
       " 'STARTING_SALARY',\n",
       " 'ENDING_SALARY',\n",
       " 'NB_INCREASES',\n",
       " 'BONUS',\n",
       " 'NB_BONUS',\n",
       " 'VACATION_DAYS_TAKEN',\n",
       " 'SICK_DAYS_TAKEN',\n",
       " 'PROMOTIONS',\n",
       " 'NB_MANAGERS',\n",
       " 'DAYS_IN_POSITION',\n",
       " 'DAYS_SINCE_LAST_RAISE',\n",
       " 'RANKING_CODE',\n",
       " 'OVERTIME',\n",
       " 'DBLOVERTIME',\n",
       " 'TRAVEL']"
      ]
     },
     "execution_count": 7,
     "metadata": {},
     "output_type": "execute_result"
    }
   ],
   "source": [
    "X.columns.tolist()"
   ]
  },
  {
   "cell_type": "markdown",
   "metadata": {
    "id": "9e203a7b-93bc-40ed-a9f6-2add3e5b88e0"
   },
   "source": [
    "The cell below tells the Watson Machine Learning client to save the models in the current project. If you receive an error here, it is likely because you did not correctly set your project ID at the beginning of the notebook."
   ]
  },
  {
   "cell_type": "markdown",
   "metadata": {
    "id": "c7d7918e-42ee-4b22-8a61-e39b5cf49aca"
   },
   "source": [
    "The following cell provides connection information to the model training data, which will be stored with the model and in FactSheets. You could use the Cloud Object Storage information for this particular project by changing the credentials to match those from above where you inserted the file to code, but for simplicity's sake, you will use a pre-existing file."
   ]
  },
  {
   "cell_type": "code",
   "execution_count": 8,
   "metadata": {
    "id": "e94484c0-2b75-4e0e-bc81-68c46327d071",
    "tags": []
   },
   "outputs": [],
   "source": [
    "training_data_references = [\n",
    "                {\n",
    "                    \"id\": \"attrition\",\n",
    "                    \"type\": \"s3\",\n",
    "                    \"connection\": {\n",
    "                        \"access_key_id\": \"yqcPbWZ0AQPHleHVerrR4Wx5e9pymBdMgydbEra5zCif\",\n",
    "                        \"endpoint_url\": \"https://s3.us.cloud-object-storage.appdomain.cloud\",\n",
    "                        \"resource_instance_id\": \"crn:v1:bluemix:public:cloud-object-storage:global:a/7d8b3c34272c0980d973d3e40be9e9d2:2883ef10-23f1-4592-8582-2f2ef4973639::\"\n",
    "                    },\n",
    "                    \"location\": {\n",
    "                        \"bucket\": \"faststartlab-donotdelete-pr-nhfd4jnhlxgpc7\",\n",
    "                        \"path\": \"modeling_records_2022.csv\"\n",
    "                    },\n",
    "                    \"schema\": {\n",
    "                        \"id\": \"training_schema\",\n",
    "                        \"fields\": [\n",
    "                            {\"name\": \"POSITION_CODE\", \"nullable\": True, \"metadata\": {}, \"type\": \"double\"},\n",
    "                            {\"name\": \"DEPARTMENT_CODE\", \"nullable\": True, \"metadata\": {}, \"type\": \"double\"},\n",
    "                            {\"name\": \"DAYS_WITH_COMPANY\", \"nullable\": True, \"metadata\": {}, \"type\": \"double\"},\n",
    "                            {\"name\": \"COMMUTE_TIME\", \"nullable\": True, \"metadata\": {}, \"type\": \"double\"},\n",
    "                            {\"name\": \"AGE_BEGIN_PERIOD\", \"nullable\": True, \"metadata\": {}, \"type\": \"double\"},\n",
    "                            {\"name\": \"GENDER_CODE\", \"nullable\": True, \"metadata\": {}, \"type\": \"double\"},\n",
    "                            {\"name\": \"PERIOD_TOTAL_DAYS\", \"nullable\": True, \"metadata\": {}, \"type\": \"double\"},\n",
    "                            {\"name\": \"STARTING_SALARY\", \"nullable\": True, \"metadata\": {}, \"type\": \"double\"},\n",
    "                            {\"name\": \"ENDING_SALARY\", \"nullable\": True, \"metadata\": {}, \"type\": \"double\"},\n",
    "                            {\"name\": \"NB_INCREASES\", \"nullable\": True, \"metadata\": {}, \"type\": \"double\"},\n",
    "                            {\"name\": \"BONUS\", \"nullable\": True, \"metadata\": {}, \"type\": \"double\"},\n",
    "                            {\"name\": \"NB_BONUS\", \"nullable\": True, \"metadata\": {}, \"type\": \"double\"},\n",
    "                            {\"name\": \"VACATION_DAYS_TAKEN\", \"nullable\": True, \"metadata\": {}, \"type\": \"double\"},\n",
    "                            {\"name\": \"SICK_DAYS_TAKEN\", \"nullable\": True, \"metadata\": {}, \"type\": \"double\"},\n",
    "                            {\"name\": \"PROMOTIONS\", \"nullable\": True, \"metadata\": {}, \"type\": \"double\"},\n",
    "                            {\"name\": \"NB_MANAGERS\", \"nullable\": True, \"metadata\": {}, \"type\": \"double\"},\n",
    "                            {\"name\": \"DAYS_IN_POSITION\", \"nullable\": True, \"metadata\": {}, \"type\": \"double\"},\n",
    "                            {\"name\": \"DAYS_SINCE_LAST_RAISE\", \"nullable\": True, \"metadata\": {}, \"type\": \"double\"},\n",
    "                            {\"name\": \"RANKING_CODE\", \"nullable\": True, \"metadata\": {}, \"type\": \"double\"},\n",
    "                            {\"name\": \"OVERTIME\", \"nullable\": True, \"metadata\": {}, \"type\": \"double\"},\n",
    "                            {\"name\": \"DBLOVERTIME\", \"nullable\": True, \"metadata\": {}, \"type\": \"double\"},\n",
    "                            {\"name\": \"TRAVEL\", \"nullable\": True, \"metadata\": {}, \"type\": \"double\"}\n",
    "                        ]\n",
    "                    }\n",
    "                }\n",
    "            ]"
   ]
  },
  {
   "cell_type": "markdown",
   "metadata": {
    "id": "7cfd1b92-b655-4376-bc96-d1b693f5d8c5"
   },
   "source": [
    "The cell below will authenticate with the IBM FactSheet service using credentials you have already supplied and initialize FactSheet monitoring for this model. Note that Python notebooks in Watson Studio have full support for `pip install`, which allows you to add whatever libraries you need to the notebook environment. For example, if you wanted to use Python to parse command line arguments, you could run `!pip install argparse`.\n",
    "\n",
    "If you receive an error related to the project access token, it is likely because you either did not insert the project access token as instructed at the beginning of the notebook, or did not run the cell after it was inserted. You will need to return to the beginning of the notebook, ensure the cell is inserted, and execute it."
   ]
  },
  {
   "cell_type": "code",
   "execution_count": null,
   "metadata": {
    "id": "92e6eae78946420c80fcaf0dcf435f72"
   },
   "outputs": [],
   "source": []
  },
  {
   "cell_type": "code",
   "execution_count": 9,
   "metadata": {
    "id": "7a131b23d7b94a4d8318b98af206cdf5",
    "tags": []
   },
   "outputs": [],
   "source": [
    "from ibm_watson_studio_lib import access_project_or_space\n",
    "wslib = access_project_or_space()\n",
    "token = wslib.auth.get_current_token()"
   ]
  },
  {
   "cell_type": "code",
   "execution_count": null,
   "metadata": {
    "id": "bdc5b11675a143e5942bd3f74efd38d5"
   },
   "outputs": [],
   "source": []
  },
  {
   "cell_type": "markdown",
   "metadata": {
    "id": "97b9684a6ddd456a8b5bca3ab239cc2c"
   },
   "source": [
    "### Setup WML Client"
   ]
  },
  {
   "cell_type": "code",
   "execution_count": 17,
   "metadata": {
    "id": "a0674814f5814dda83fa76102de187ee",
    "tags": []
   },
   "outputs": [],
   "source": [
    "from ibm_watson_machine_learning import APIClient\n",
    "import os\n",
    "\n",
    "token = os.environ['USER_ACCESS_TOKEN']\n",
    "\n",
    "wml_credentials = {\n",
    "   \"token\": token,\n",
    "   \"instance_id\" : \"openshift\",\n",
    "   \"url\": os.environ['RUNTIME_ENV_APSX_URL'],\n",
    "   \"version\": \"4.6\"\n",
    "}\n",
    "\n",
    "wml_client = APIClient(wml_credentials)"
   ]
  },
  {
   "cell_type": "markdown",
   "metadata": {
    "id": "2b4939d24f84459e8417fc50087863b4"
   },
   "source": [
    "### Setup FactSheet Client"
   ]
  },
  {
   "cell_type": "code",
   "execution_count": 39,
   "metadata": {
    "id": "5bee466bf4c94a3f995b81c4810da27e",
    "tags": []
   },
   "outputs": [
    {
     "data": {
      "text/plain": [
       "'SUCCESS'"
      ]
     },
     "execution_count": 39,
     "metadata": {},
     "output_type": "execute_result"
    }
   ],
   "source": [
    "# @hidden_cell\n",
    "from ibm_aigov_facts_client import AIGovFactsClient,CloudPakforDataConfig\n",
    "cpd_creds=CloudPakforDataConfig(service_url=\"https://internal-nginx-svc:12443\",\n",
    "    username=\"wilfried.hoge\",\n",
    "    api_key=\"F7fw7s8fifSfKWeE7iO2zt7DhB5duwf4MTzYWUOI\")\n",
    "\n",
    "CPD_URL=os.environ['RUNTIME_ENV_APSX_URL'][len('https://api.'):]\n",
    "PROJECT_UID= os.environ['PROJECT_ID']\n",
    "CONTAINER_ID=PROJECT_UID\n",
    "CONTAINER_TYPE='project'\n",
    "EXPERIMENT_NAME='predictive_attrition v2'\n",
    "\n",
    "wml_client.set.default_project(PROJECT_UID)"
   ]
  },
  {
   "cell_type": "code",
   "execution_count": 40,
   "metadata": {
    "id": "75794e8cbb54463282166a9b5b8f20ff",
    "tags": []
   },
   "outputs": [
    {
     "name": "stdout",
     "output_type": "stream",
     "text": [
      "2023/01/19 15:18:35 INFO : Experiment successfully created with ID 3 and name predictive_attrition v2\n",
      "2023/01/19 15:18:36 INFO : Autolog enabled Successfully\n"
     ]
    }
   ],
   "source": [
    "#Facts Client\n",
    "facts_client = AIGovFactsClient(cloud_pak_for_data_configs=cpd_creds, \n",
    "                                experiment_name=EXPERIMENT_NAME,\n",
    "                                container_type=\"project\",\n",
    "                                container_id=CONTAINER_ID)"
   ]
  },
  {
   "cell_type": "markdown",
   "metadata": {
    "id": "dcba408847ae413c89e15cbf44da3e80"
   },
   "source": [
    "## Define Software Specifications & Train Model"
   ]
  },
  {
   "cell_type": "code",
   "execution_count": 41,
   "metadata": {
    "id": "3f1b40b527c544abb213315ae8da5d92",
    "tags": []
   },
   "outputs": [],
   "source": [
    "fields=X_train.columns.tolist()\n",
    "metadata_dict = {'target_col' : 'ATTRITION', 'fields':fields}"
   ]
  },
  {
   "cell_type": "code",
   "execution_count": 42,
   "metadata": {
    "id": "bcc75f39bcf4416ea75b66e796611e09",
    "tags": []
   },
   "outputs": [
    {
     "data": {
      "text/plain": [
       "'1.1.1'"
      ]
     },
     "execution_count": 42,
     "metadata": {},
     "output_type": "execute_result"
    }
   ],
   "source": [
    "import sklearn\n",
    "sklearn.__version__\n",
    "\n",
    "#https://dataplatform.cloud.ibm.com/docs/content/wsj/wmls/wmls-deploy-python-types.html"
   ]
  },
  {
   "cell_type": "code",
   "execution_count": 43,
   "metadata": {
    "id": "91616e73e96e43ad894a22fdf5204f7a",
    "tags": []
   },
   "outputs": [
    {
     "name": "stdout",
     "output_type": "stream",
     "text": [
      "--------------------------  ------------------------------------  ----\n",
      "NAME                        ASSET_ID                              TYPE\n",
      "default_py3.6               0062b8c9-8b7d-44a0-a9b9-46c416adcbd9  base\n",
      "runtime-22.1-r3.6           018ebea5-1d1f-5fec-b93e-5e2ab30e7f38  base\n",
      "kernel-spark3.2-scala2.12   020d69ce-7ac1-5e68-ac1a-31189867356a  base\n",
      "pytorch-onnx_1.3-py3.7-edt  069ea134-3346-5748-b513-49120e15d288  base\n",
      "scikit-learn_0.20-py3.6     09c5a1d0-9c1e-4473-a344-eb7b665ff687  base\n",
      "spark-mllib_3.0-scala_2.12  09f4cff0-90a7-5899-b9ed-1ef348aebdee  base\n",
      "pytorch-onnx_rt22.1-py3.9   0b848dd4-e681-5599-be41-b5f6fccc6471  base\n",
      "ai-function_0.1-py3.6       0cdb0f1e-5376-4f4d-92dd-da3b69aa9bda  base\n",
      "shiny-r3.6                  0e6e79df-875e-4f24-8ae9-62dcc2148306  base\n",
      "pytorch_1.1-py3.6           10ac12d6-6b30-4ccd-8392-3e922c096a92  base\n",
      "--------------------------  ------------------------------------  ----\n"
     ]
    }
   ],
   "source": [
    "#Show Supported Frameworks\n",
    "wml_client.software_specifications.list(10)"
   ]
  },
  {
   "cell_type": "code",
   "execution_count": 44,
   "metadata": {
    "id": "6b02995075a04c74944f41305da81f21",
    "tags": []
   },
   "outputs": [
    {
     "name": "stdout",
     "output_type": "stream",
     "text": [
      "Software Specification ID: 12b83a17-24d8-5082-900f-0ab31fbfd3cb\n"
     ]
    }
   ],
   "source": [
    "software_spec_uid = wml_client.software_specifications.get_id_by_name(\"runtime-22.1-py3.9\")\n",
    "print(\"Software Specification ID: {}\".format(software_spec_uid))\n",
    "\n"
   ]
  },
  {
   "cell_type": "code",
   "execution_count": 45,
   "metadata": {
    "id": "d7cad6ec17b44bb5b4105cff42937507",
    "tags": []
   },
   "outputs": [
    {
     "data": {
      "text/plain": [
       "{'name': 'Random Forrest',\n",
       " 'type': 'scikit-learn_1.0',\n",
       " 'software_spec': '12b83a17-24d8-5082-900f-0ab31fbfd3cb',\n",
       " 'custom': {'experiment_id': '979e2bd5963a4950a86fe86546a7c863',\n",
       "  'experiment_name': 'predictive_attrition v2'}}"
      ]
     },
     "execution_count": 45,
     "metadata": {},
     "output_type": "execute_result"
    }
   ],
   "source": [
    "\n",
    "metadata = {\n",
    "            wml_client.repository.ModelMetaNames.NAME: 'Random Forrest',\n",
    "            wml_client.repository.ModelMetaNames.TYPE: 'scikit-learn_1.0',\n",
    "            wml_client.repository.ModelMetaNames.SOFTWARE_SPEC_UID: software_spec_uid\n",
    "}\n",
    "\n",
    "facts_client.export_facts.prepare_model_meta(wml_client=wml_client,meta_props=metadata)"
   ]
  },
  {
   "cell_type": "code",
   "execution_count": 51,
   "metadata": {
    "id": "882afc8b79f341c28fa10ce8865154da",
    "tags": []
   },
   "outputs": [
    {
     "name": "stdout",
     "output_type": "stream",
     "text": [
      "2023/01/19 15:49:44 INFO : logging results to factsheet for run_id 8688abff1cf244a1a4f1624306f5c212\n",
      "2023/01/19 15:49:49 ERROR : Something went wrong when publishing to factsheet. ERROR: 400.{\"code\":\"Bad Request\",\"message\":\"CATSV5025E: Unable to find Catalog for project 'a805717d-0b8a-43ae-a461-518ee76894c6' while executing POST https://internal-nginx-svc.zen-46.svc:12443/v2/asset_types/notebook_experiment/search?project_id=a805717d-0b8a-43ae-a461-518ee76894c6\",\"trace\":\"2zgpbj5uue2yjq0rjyu8flbeb\"}\n"
     ]
    }
   ],
   "source": [
    "from sklearn.ensemble import RandomForestClassifier\n",
    "\n",
    "#Create a Gaussian Classifier\n",
    "clf = RandomForestClassifier(n_estimators=50)\n",
    "\n",
    "#Train the model using the training sets y_pred=clf.predict(X_test)\n",
    "clf.fit(X_train,y_train)\n",
    "\n",
    "y_pred = clf.predict(X_test)"
   ]
  },
  {
   "cell_type": "code",
   "execution_count": 47,
   "metadata": {
    "id": "1a1ecb47451e4e72817575b79b3929ed",
    "tags": []
   },
   "outputs": [
    {
     "name": "stdout",
     "output_type": "stream",
     "text": [
      "Accuracy: 0.8611111111111112\n"
     ]
    }
   ],
   "source": [
    "from sklearn import metrics\n",
    "import pandas as pd\n",
    "# Model Accuracy, how often is the classifier correct?\n",
    "print(\"Accuracy:\",metrics.accuracy_score(y_test, y_pred))"
   ]
  },
  {
   "cell_type": "code",
   "execution_count": 48,
   "metadata": {
    "id": "45dbaad09e9b432fa3c42470d2cb07bb",
    "tags": []
   },
   "outputs": [
    {
     "data": {
      "text/plain": [
       "COMMUTE_TIME             0.205319\n",
       "OVERTIME                 0.157364\n",
       "DBLOVERTIME              0.102783\n",
       "DAYS_IN_POSITION         0.066943\n",
       "DAYS_SINCE_LAST_RAISE    0.055362\n",
       "PERIOD_TOTAL_DAYS        0.054036\n",
       "DAYS_WITH_COMPANY        0.052268\n",
       "ENDING_SALARY            0.044760\n",
       "STARTING_SALARY          0.041188\n",
       "AGE_BEGIN_PERIOD         0.038191\n",
       "VACATION_DAYS_TAKEN      0.035396\n",
       "POSITION_CODE            0.033182\n",
       "SICK_DAYS_TAKEN          0.033067\n",
       "RANKING_CODE             0.024940\n",
       "BONUS                    0.023298\n",
       "DEPARTMENT_CODE          0.018098\n",
       "GENDER_CODE              0.005414\n",
       "NB_BONUS                 0.004205\n",
       "NB_INCREASES             0.004188\n",
       "NB_MANAGERS              0.000000\n",
       "PROMOTIONS               0.000000\n",
       "TRAVEL                   0.000000\n",
       "dtype: float64"
      ]
     },
     "execution_count": 48,
     "metadata": {},
     "output_type": "execute_result"
    }
   ],
   "source": [
    "feature_imp = pd.Series(clf.feature_importances_,index=X.columns).sort_values(ascending=False)\n",
    "feature_imp"
   ]
  },
  {
   "cell_type": "code",
   "execution_count": 49,
   "metadata": {
    "id": "d93a948ebdc849f8892f587d1b2d9838",
    "tags": []
   },
   "outputs": [
    {
     "data": {
      "text/html": [
       "<div>\n",
       "<style scoped>\n",
       "    .dataframe tbody tr th:only-of-type {\n",
       "        vertical-align: middle;\n",
       "    }\n",
       "\n",
       "    .dataframe tbody tr th {\n",
       "        vertical-align: top;\n",
       "    }\n",
       "\n",
       "    .dataframe thead th {\n",
       "        text-align: right;\n",
       "    }\n",
       "</style>\n",
       "<table border=\"1\" class=\"dataframe\">\n",
       "  <thead>\n",
       "    <tr style=\"text-align: right;\">\n",
       "      <th></th>\n",
       "      <th>run_id</th>\n",
       "      <th>experiment_id</th>\n",
       "      <th>published</th>\n",
       "      <th>artifact_uri</th>\n",
       "      <th>start_time</th>\n",
       "      <th>end_time</th>\n",
       "    </tr>\n",
       "  </thead>\n",
       "  <tbody>\n",
       "  </tbody>\n",
       "</table>\n",
       "</div>"
      ],
      "text/plain": [
       "Empty DataFrame\n",
       "Columns: [run_id, experiment_id, published, artifact_uri, start_time, end_time]\n",
       "Index: []"
      ]
     },
     "execution_count": 49,
     "metadata": {},
     "output_type": "execute_result"
    }
   ],
   "source": [
    "facts_client.runs.list_runs_by_experiment('1')"
   ]
  },
  {
   "cell_type": "markdown",
   "metadata": {
    "id": "b6dcd5d9-e1f8-4dc5-9563-b152045d632a"
   },
   "source": [
    "The next three cells fit the data the the model using a Random Forest classifier, run predictions on the test data, and then print out the accuracy for how the model did on the test data. Finally, the notebook calculates and displays feature importance. For more information on Random Forest classifiers, see [here](https://www.ibm.com/cloud/learn/random-forest)."
   ]
  },
  {
   "cell_type": "markdown",
   "metadata": {
    "id": "34c454cf-f19a-4b1e-a8f2-94a359dd40fd"
   },
   "source": [
    "The next three cells export data from the model you just created to the FactSheet. The first lists experiments tracked by FactSheets. The second writes the URL and other info on this notebook as custom data to the FactSheet. Note that any data can be written to the FactSheet that might be helpful for model validators."
   ]
  },
  {
   "cell_type": "code",
   "execution_count": 50,
   "metadata": {
    "id": "ad802ec9-914d-4d60-aaa2-c57b9bb8e1df",
    "tags": []
   },
   "outputs": [
    {
     "ename": "IndexError",
     "evalue": "single positional indexer is out-of-bounds",
     "output_type": "error",
     "traceback": [
      "\u001b[0;31m---------------------------------------------------------------------------\u001b[0m",
      "\u001b[0;31mIndexError\u001b[0m                                Traceback (most recent call last)",
      "Input \u001b[0;32mIn [50]\u001b[0m, in \u001b[0;36m<cell line: 5>\u001b[0;34m()\u001b[0m\n\u001b[1;32m      2\u001b[0m nb_asset_id \u001b[38;5;241m=\u001b[39m \u001b[38;5;124m\"\u001b[39m\u001b[38;5;124mtbd\u001b[39m\u001b[38;5;124m\"\u001b[39m\n\u001b[1;32m      3\u001b[0m nb_asset_url \u001b[38;5;241m=\u001b[39m \u001b[38;5;124m\"\u001b[39m\u001b[38;5;124mhttps://\u001b[39m\u001b[38;5;124m\"\u001b[39m \u001b[38;5;241m+\u001b[39m CPD_URL \u001b[38;5;241m+\u001b[39m \u001b[38;5;124m\"\u001b[39m\u001b[38;5;124m/analytics/notebooks/v2/\u001b[39m\u001b[38;5;124m\"\u001b[39m \u001b[38;5;241m+\u001b[39m nb_asset_id \u001b[38;5;241m+\u001b[39m \u001b[38;5;124m\"\u001b[39m\u001b[38;5;124m?projectid=\u001b[39m\u001b[38;5;124m\"\u001b[39m \u001b[38;5;241m+\u001b[39m PROJECT_UID \u001b[38;5;241m+\u001b[39m \u001b[38;5;124m\"\u001b[39m\u001b[38;5;124m&context=cpdaas\u001b[39m\u001b[38;5;124m\"\u001b[39m\n\u001b[0;32m----> 5\u001b[0m latestRunId \u001b[38;5;241m=\u001b[39m \u001b[43mfacts_client\u001b[49m\u001b[38;5;241;43m.\u001b[39;49m\u001b[43mruns\u001b[49m\u001b[38;5;241;43m.\u001b[39;49m\u001b[43mlist_runs_by_experiment\u001b[49m\u001b[43m(\u001b[49m\u001b[38;5;124;43m'\u001b[39;49m\u001b[38;5;124;43m1\u001b[39;49m\u001b[38;5;124;43m'\u001b[39;49m\u001b[43m)\u001b[49m\u001b[38;5;241;43m.\u001b[39;49m\u001b[43msort_values\u001b[49m\u001b[43m(\u001b[49m\u001b[38;5;124;43m'\u001b[39;49m\u001b[38;5;124;43mstart_time\u001b[39;49m\u001b[38;5;124;43m'\u001b[39;49m\u001b[43m)\u001b[49m\u001b[38;5;241;43m.\u001b[39;49m\u001b[43miloc\u001b[49m\u001b[43m[\u001b[49m\u001b[38;5;241;43m-\u001b[39;49m\u001b[38;5;241;43m1\u001b[39;49m\u001b[43m]\u001b[49m[\u001b[38;5;124m'\u001b[39m\u001b[38;5;124mrun_id\u001b[39m\u001b[38;5;124m'\u001b[39m]\n\u001b[1;32m      6\u001b[0m facts_client\u001b[38;5;241m.\u001b[39mruns\u001b[38;5;241m.\u001b[39mset_tags(latestRunId, {\u001b[38;5;124m\"\u001b[39m\u001b[38;5;124mNotebook name\u001b[39m\u001b[38;5;124m\"\u001b[39m: nb_name, \u001b[38;5;124m\"\u001b[39m\u001b[38;5;124mNotebook id\u001b[39m\u001b[38;5;124m\"\u001b[39m: nb_asset_id, \u001b[38;5;124m\"\u001b[39m\u001b[38;5;124mNotebook URL\u001b[39m\u001b[38;5;124m\"\u001b[39m : nb_asset_url})\n\u001b[1;32m      7\u001b[0m facts_client\u001b[38;5;241m.\u001b[39mexport_facts\u001b[38;5;241m.\u001b[39mexport_payload(latestRunId)\n",
      "File \u001b[0;32m/opt/conda/envs/Python-3.10-Premium/lib/python3.10/site-packages/pandas/core/indexing.py:967\u001b[0m, in \u001b[0;36m_LocationIndexer.__getitem__\u001b[0;34m(self, key)\u001b[0m\n\u001b[1;32m    964\u001b[0m axis \u001b[38;5;241m=\u001b[39m \u001b[38;5;28mself\u001b[39m\u001b[38;5;241m.\u001b[39maxis \u001b[38;5;129;01mor\u001b[39;00m \u001b[38;5;241m0\u001b[39m\n\u001b[1;32m    966\u001b[0m maybe_callable \u001b[38;5;241m=\u001b[39m com\u001b[38;5;241m.\u001b[39mapply_if_callable(key, \u001b[38;5;28mself\u001b[39m\u001b[38;5;241m.\u001b[39mobj)\n\u001b[0;32m--> 967\u001b[0m \u001b[38;5;28;01mreturn\u001b[39;00m \u001b[38;5;28;43mself\u001b[39;49m\u001b[38;5;241;43m.\u001b[39;49m\u001b[43m_getitem_axis\u001b[49m\u001b[43m(\u001b[49m\u001b[43mmaybe_callable\u001b[49m\u001b[43m,\u001b[49m\u001b[43m \u001b[49m\u001b[43maxis\u001b[49m\u001b[38;5;241;43m=\u001b[39;49m\u001b[43maxis\u001b[49m\u001b[43m)\u001b[49m\n",
      "File \u001b[0;32m/opt/conda/envs/Python-3.10-Premium/lib/python3.10/site-packages/pandas/core/indexing.py:1520\u001b[0m, in \u001b[0;36m_iLocIndexer._getitem_axis\u001b[0;34m(self, key, axis)\u001b[0m\n\u001b[1;32m   1517\u001b[0m     \u001b[38;5;28;01mraise\u001b[39;00m \u001b[38;5;167;01mTypeError\u001b[39;00m(\u001b[38;5;124m\"\u001b[39m\u001b[38;5;124mCannot index by location index with a non-integer key\u001b[39m\u001b[38;5;124m\"\u001b[39m)\n\u001b[1;32m   1519\u001b[0m \u001b[38;5;66;03m# validate the location\u001b[39;00m\n\u001b[0;32m-> 1520\u001b[0m \u001b[38;5;28;43mself\u001b[39;49m\u001b[38;5;241;43m.\u001b[39;49m\u001b[43m_validate_integer\u001b[49m\u001b[43m(\u001b[49m\u001b[43mkey\u001b[49m\u001b[43m,\u001b[49m\u001b[43m \u001b[49m\u001b[43maxis\u001b[49m\u001b[43m)\u001b[49m\n\u001b[1;32m   1522\u001b[0m \u001b[38;5;28;01mreturn\u001b[39;00m \u001b[38;5;28mself\u001b[39m\u001b[38;5;241m.\u001b[39mobj\u001b[38;5;241m.\u001b[39m_ixs(key, axis\u001b[38;5;241m=\u001b[39maxis)\n",
      "File \u001b[0;32m/opt/conda/envs/Python-3.10-Premium/lib/python3.10/site-packages/pandas/core/indexing.py:1452\u001b[0m, in \u001b[0;36m_iLocIndexer._validate_integer\u001b[0;34m(self, key, axis)\u001b[0m\n\u001b[1;32m   1450\u001b[0m len_axis \u001b[38;5;241m=\u001b[39m \u001b[38;5;28mlen\u001b[39m(\u001b[38;5;28mself\u001b[39m\u001b[38;5;241m.\u001b[39mobj\u001b[38;5;241m.\u001b[39m_get_axis(axis))\n\u001b[1;32m   1451\u001b[0m \u001b[38;5;28;01mif\u001b[39;00m key \u001b[38;5;241m>\u001b[39m\u001b[38;5;241m=\u001b[39m len_axis \u001b[38;5;129;01mor\u001b[39;00m key \u001b[38;5;241m<\u001b[39m \u001b[38;5;241m-\u001b[39mlen_axis:\n\u001b[0;32m-> 1452\u001b[0m     \u001b[38;5;28;01mraise\u001b[39;00m \u001b[38;5;167;01mIndexError\u001b[39;00m(\u001b[38;5;124m\"\u001b[39m\u001b[38;5;124msingle positional indexer is out-of-bounds\u001b[39m\u001b[38;5;124m\"\u001b[39m)\n",
      "\u001b[0;31mIndexError\u001b[0m: single positional indexer is out-of-bounds"
     ]
    }
   ],
   "source": [
    "nb_name = \"attrition model creation and deployment\"\n",
    "nb_asset_id = \"tbd\"\n",
    "nb_asset_url = \"https://\" + CPD_URL + \"/analytics/notebooks/v2/\" + nb_asset_id + \"?projectid=\" + PROJECT_UID + \"&context=cpdaas\"\n",
    "\n",
    "latestRunId = facts_client.runs.list_runs_by_experiment('1').sort_values('start_time').iloc[-1]['run_id']\n",
    "facts_client.runs.set_tags(latestRunId, {\"Notebook name\": nb_name, \"Notebook id\": nb_asset_id, \"Notebook URL\" : nb_asset_url})\n",
    "facts_client.export_facts.export_payload(latestRunId)"
   ]
  },
  {
   "cell_type": "code",
   "execution_count": null,
   "metadata": {
    "id": "7bc733e8-9ed0-443d-a4e5-b3d901aa4002"
   },
   "outputs": [],
   "source": [
    "RUN_ID=facts_client.runs.get_current_run_id()\n",
    "facts_client.export_facts.export_payload(RUN_ID)"
   ]
  },
  {
   "cell_type": "markdown",
   "metadata": {
    "id": "e863f31d-dfb3-4357-bf63-d0498731f82d"
   },
   "source": [
    "Finally, the model is stored to the project with all of the metadata defined above."
   ]
  },
  {
   "cell_type": "code",
   "execution_count": null,
   "metadata": {
    "id": "d0ef1696-ce51-4e74-9412-3937222637c8"
   },
   "outputs": [],
   "source": [
    "print(\"Storing model...\")\n",
    "published_model_details = wml_client.repository.store_model(\n",
    "    model=clf, \n",
    "    meta_props=metadata,\n",
    "    training_target=['ATTRITION'],\n",
    "    training_data=X)\n",
    "model_uid = wml_client.repository.get_model_id(published_model_details)\n",
    "\n",
    "print(\"Done\")\n",
    "print(\"Model ID: {}\".format(model_uid))"
   ]
  },
  {
   "cell_type": "code",
   "execution_count": null,
   "metadata": {
    "id": "f2805c98ede74f259e77e5cfae285f41"
   },
   "outputs": [],
   "source": []
  },
  {
   "cell_type": "markdown",
   "metadata": {
    "id": "ec49c307839342d182f6eda78031b101"
   },
   "source": [
    "# Spark Model"
   ]
  },
  {
   "cell_type": "markdown",
   "metadata": {
    "id": "f4990ccc-46c5-41e0-965e-87dc0444fc0e"
   },
   "source": [
    "Next, the notebook uses Apache Spark to create a second model. Because you specified a Spark environment when you created this notebook, the `pyspark` runtime will be available without needing to be installed via `pip`."
   ]
  },
  {
   "cell_type": "code",
   "execution_count": null,
   "metadata": {
    "id": "0156728d-9c5c-46a4-a3ce-749bcdacb3b7"
   },
   "outputs": [],
   "source": [
    "try:\n",
    "    from pyspark.sql import SparkSession\n",
    "except:\n",
    "    print('Error: Spark runtime is missing. If you are using Watson Studio change the notebook runtime to Spark by clicking \\\n",
    "    the Vew notebook info button above (the lowercase i in a circle). Click on the Environment tab and use the Environment \\\n",
    "    definition dropdown to select an environment with Spark and Python.')\n",
    "    raise\n",
    "spark.version"
   ]
  },
  {
   "cell_type": "code",
   "execution_count": null,
   "metadata": {
    "id": "7466683477474b07a4f8381300e927b5"
   },
   "outputs": [],
   "source": [
    "import itc_utils.flight_service as itcfs\n",
    "\n",
    "from pyspark.sql import SparkSession\n",
    "spark = SparkSession.builder.getOrCreate()\n",
    "spark.conf.set(\"spark.sql.execution.arrow.pyspark.enabled\", \"true\")\n",
    "\n",
    "readClient = itcfs.get_flight_client()\n",
    "\n",
    "nb_data_request = {\n",
    "    'data_name': \"\"\"modeling_records_2022.csv\"\"\",\n",
    "    'interaction_properties': {\n",
    "        #'row_limit': 500,\n",
    "        'infer_schema': 'true',\n",
    "        'infer_as_varchar': 'false'\n",
    "    }\n",
    "}\n",
    "\n",
    "flightInfo = itcfs.get_flight_info(readClient, nb_data_request=nb_data_request)\n",
    "\n",
    "df_data_2 = itcfs.read_pandas_and_concat(readClient, flightInfo, timeout=240)\n",
    "df_data_2 = spark.createDataFrame(df_data_2)\n",
    "df_data_2.show(10)\n"
   ]
  },
  {
   "cell_type": "markdown",
   "metadata": {
    "id": "5fec9dd2-de7f-4e6b-acef-39c330ac7e79"
   },
   "source": [
    "Similar to the `sklearn` model, you need to specify metadata for the spark model."
   ]
  },
  {
   "cell_type": "code",
   "execution_count": null,
   "metadata": {
    "id": "ad8c1299-b6b2-4204-8af4-2ba7d9cf96f4"
   },
   "outputs": [],
   "source": [
    "software_spec_uid = wml_client.software_specifications.get_id_by_name('spark-mllib_3.3')\n",
    "print(\"Software Specification ID: {}\".format(software_spec_uid))\n",
    "\n",
    "meta_props1 = {\n",
    "            wml_client.repository.ModelMetaNames.NAME: 'Attrition Challenger – Spark',\n",
    "            wml_client.repository.ModelMetaNames.TYPE: 'mllib_3.3',\n",
    "            wml_client.repository.ModelMetaNames.SOFTWARE_SPEC_UID: software_spec_uid\n",
    "}\n",
    "\n",
    "facts_client.export_facts.prepare_model_meta(wml_client=wml_client,meta_props=meta_props1)"
   ]
  },
  {
   "cell_type": "markdown",
   "metadata": {
    "id": "8000d772b5d644838483c1a6099dd4cf"
   },
   "source": [
    "software_spec_uid = wml_client.software_specifications.get_id_by_name(\"spark-mllib_3.3\")\n",
    "print(\"Software Specification ID: {}\".format(software_spec_uid))\n",
    "\n",
    "\n",
    "model_props = {\n",
    "    wml_client._models.ConfigurationMetaNames.NAME:\"{}\".format(\"attrition challenger - spark\"),\n",
    "    wml_client._models.ConfigurationMetaNames.TYPE: \"mllib_3.3\",\n",
    "    wml_client._models.ConfigurationMetaNames.SOFTWARE_SPEC_UID: software_spec_uid,\n",
    "    wml_client._models.ConfigurationMetaNames.TRAINING_DATA_REFERENCES: training_data_references,\n",
    "    wml_client._models.ConfigurationMetaNames.LABEL_FIELD: \"ATTRITION\"\n",
    "}\n",
    "\n",
    "facts_client.export_facts.prepare_model_meta(wml_client=wml_client,meta_props=model_props)"
   ]
  },
  {
   "cell_type": "code",
   "execution_count": null,
   "metadata": {
    "id": "fc7d437159384a0899bc9490015cbfde"
   },
   "outputs": [],
   "source": []
  },
  {
   "cell_type": "code",
   "execution_count": null,
   "metadata": {
    "id": "b2e42466-ba9d-4806-ac38-ac58e2376a3f"
   },
   "outputs": [],
   "source": [
    "from pyspark.ml.feature import VectorAssembler\n",
    "from pyspark.ml.classification import GBTClassifier\n",
    "from pyspark.ml.evaluation import BinaryClassificationEvaluator\n",
    "from pyspark.ml import Pipeline, Model"
   ]
  },
  {
   "cell_type": "markdown",
   "metadata": {
    "id": "bc1154f7-29d0-4b6e-a4bc-ee05d2f9be3b"
   },
   "source": [
    "For the second model, you will create a Gradient Boosted Tree classifier. For more information on Gradient Boosting, see [here](https://www.ibm.com/cloud/learn/boosting)."
   ]
  },
  {
   "cell_type": "code",
   "execution_count": null,
   "metadata": {
    "id": "91e8172a-0115-435f-b959-914230fba043"
   },
   "outputs": [],
   "source": [
    "from pyspark.sql.types import FloatType\n",
    "for field in fields:\n",
    "    df_data_2=df_data_2.withColumn(field,df_data_2[field].cast(\"float\").alias(field))\n",
    "df_data_2=df_data_2.withColumn('ATTRITION',df_data_2['ATTRITION'].cast(\"int\").alias('ATTRITTION'))\n",
    "df_data_2.take(5)"
   ]
  },
  {
   "cell_type": "code",
   "execution_count": null,
   "metadata": {
    "id": "cde29502-faf3-4b97-936c-0c9df734bbb3"
   },
   "outputs": [],
   "source": [
    "va = VectorAssembler(inputCols = fields, outputCol='features')\n",
    "va_df = va.transform(df_data_2)\n",
    "va_df = va_df.select(['features', 'ATTRITION'])\n",
    "va_df.show(3)"
   ]
  },
  {
   "cell_type": "code",
   "execution_count": null,
   "metadata": {
    "id": "433dc10d-9d00-44b7-a40b-f2b88fba5a3f"
   },
   "outputs": [],
   "source": [
    "gbtc = GBTClassifier(labelCol=\"ATTRITION\", maxIter=20)\n",
    "\n",
    "pipeline = Pipeline(stages=[va, gbtc])"
   ]
  },
  {
   "cell_type": "code",
   "execution_count": null,
   "metadata": {
    "id": "d27fd74f-f27f-4685-9ba2-7f55e5ca7bc2"
   },
   "outputs": [],
   "source": [
    "split_data = df_data_2.randomSplit([0.8, 0.2], 24)\n",
    "train_data = split_data[0]\n",
    "test_data = split_data[1]\n",
    "\n",
    "print(\"Number of training records: \" + str(train_data.count()))\n",
    "print(\"Number of testing records : \" + str(test_data.count()))"
   ]
  },
  {
   "cell_type": "code",
   "execution_count": null,
   "metadata": {
    "id": "a4364b0e-6133-4919-bb63-31a4fd41d94c"
   },
   "outputs": [],
   "source": [
    "spark_model = pipeline.fit(train_data)\n",
    "\n",
    "pred = spark_model.transform(test_data)\n",
    "pred.show(3) "
   ]
  },
  {
   "cell_type": "code",
   "execution_count": null,
   "metadata": {
    "id": "1a5350a2-736f-49bb-9114-6d5a1fd34c7c"
   },
   "outputs": [],
   "source": [
    "evaluator = BinaryClassificationEvaluator()\n",
    "evaluator.setLabelCol(\"ATTRITION\")\n",
    "print(\"Test Area Under ROC: \" + str(evaluator.evaluate(pred, {evaluator.metricName: \"areaUnderROC\"})))"
   ]
  },
  {
   "cell_type": "code",
   "execution_count": null,
   "metadata": {
    "id": "81927afd24c74b8c9237ce0a89f7187b"
   },
   "outputs": [],
   "source": [
    "#Specify ML Model and Save it into WML\n",
    "sofware_spec_uid = wml_client.software_specifications.get_id_by_name(\"spark-mllib_3.3\")\n",
    "\n",
    "\n",
    "\n",
    "\n",
    "metadata = {\n",
    "            wml_client.repository.ModelMetaNames.NAME: 'Spark GBT',\n",
    "            wml_client.repository.ModelMetaNames.TYPE: 'mllib_3.3',\n",
    "            wml_client.repository.ModelMetaNames.SOFTWARE_SPEC_UID: sofware_spec_uid\n",
    "}\n",
    "\n",
    "published_model = wml_client.repository.store_model(\n",
    "    model=spark_model,\n",
    "    meta_props=meta_props1,\n",
    "    training_target=['ATTRITION'],\n",
    "    training_data=train_data,\n",
    "    pipeline=pipeline\n",
    ")"
   ]
  },
  {
   "cell_type": "code",
   "execution_count": null,
   "metadata": {
    "id": "cb9f440ec16e4d628af0cbbec884a079"
   },
   "outputs": [],
   "source": [
    "print(\"Storing model...\")\n",
    "published_model_details = wml_client.repository.store_model(\n",
    "    model=clf, \n",
    "    meta_props=metadata,\n",
    "    training_target=['ATTRITION'],\n",
    "    training_data=X)\n",
    "model_uid = wml_client.repository.get_model_id(published_model_details)\n",
    "\n",
    "print(\"Done\")\n",
    "print(\"Model ID: {}\".format(model_uid))"
   ]
  },
  {
   "cell_type": "code",
   "execution_count": null,
   "metadata": {
    "id": "44bb357f-98ed-46ff-80de-e185290590d2"
   },
   "outputs": [],
   "source": [
    "print(\"Storing spark model...\")\n",
    "published_model_details = wml_client.repository.store_model(\n",
    "    model=spark_model, \n",
    "    meta_props=meta_props1,\n",
    "    training_target=['ATTRITION'],\n",
    "    training_data=train_data,\n",
    "    pipeline=pipeline\n",
    ")\n",
    "model_uid = wml_client.repository.get_model_id(published_model_details)\n",
    "\n",
    "print(\"Done\")\n",
    "print(\"Model ID: {}\".format(model_uid))\n"
   ]
  },
  {
   "cell_type": "markdown",
   "metadata": {
    "id": "7d8680b3-cb05-4205-b5fd-9e2553abb899"
   },
   "source": [
    "# Congratulations!\n",
    "\n",
    "You have completed this notebook. You can now return to the [Data and AI Live Demos lab page](https://cp4d-outcomes.techzone.ibm.com/data-fabric-lab/trusted-ai) and continue with the lab."
   ]
  }
 ],
 "metadata": {
  "kernelspec": {
   "display_name": "Python 3.10",
   "language": "python",
   "name": "python3"
  },
  "language_info": {
   "codemirror_mode": {
    "name": "ipython",
    "version": 3
   },
   "file_extension": ".py",
   "mimetype": "text/x-python",
   "name": "python",
   "nbconvert_exporter": "python",
   "pygments_lexer": "ipython3",
   "version": "3.10.6"
  }
 },
 "nbformat": 4,
 "nbformat_minor": 4
}
