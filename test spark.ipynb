{
 "cells": [
  {
   "cell_type": "code",
   "execution_count": 4,
   "id": "occasional-province",
   "metadata": {
    "id": "45f14641-6b30-4ccc-b7da-a0d848f0ada0",
    "tags": []
   },
   "outputs": [
    {
     "name": "stdout",
     "output_type": "stream",
     "text": [
      "5\n"
     ]
    }
   ],
   "source": [
    "a=5\n",
    "print(a)"
   ]
  },
  {
   "cell_type": "code",
   "execution_count": 5,
   "id": "olive-optimum",
   "metadata": {
    "id": "afaebaa7-393d-45fb-bf3a-24d204694b3d",
    "tags": []
   },
   "outputs": [
    {
     "name": "stdout",
     "output_type": "stream",
     "text": [
      "+-----+-----------+---------+------+------------+----------------+------------+------------------+------+-------------+---+-------------+--------------------+---------------+---------------+------------+------------+---------+----------+------------+--------------------+-----------------+------------------+------------+-----------------+-----------------+--------------+---------+-------------------+-------------------+------------+----+----------+\n",
      "|Month|WeekOfMonth|DayOfWeek|  Make|AccidentArea|DayOfWeekClaimed|MonthClaimed|WeekOfMonthClaimed|   Sex|MaritalStatus|Age|        Fault|          PolicyType|VehicleCategory|   VehiclePrice|FraudFound_P|PolicyNumber|RepNumber|Deductible|DriverRating|Days_Policy_Accident|Days_Policy_Claim|PastNumberOfClaims|AgeOfVehicle|AgeOfPolicyHolder|PoliceReportFiled|WitnessPresent|AgentType|NumberOfSuppliments|AddressChange_Claim|NumberOfCars|Year|BasePolicy|\n",
      "+-----+-----------+---------+------+------------+----------------+------------+------------------+------+-------------+---+-------------+--------------------+---------------+---------------+------------+------------+---------+----------+------------+--------------------+-----------------+------------------+------------+-----------------+-----------------+--------------+---------+-------------------+-------------------+------------+----+----------+\n",
      "|  Dec|          5|Wednesday| Honda|       Urban|         Tuesday|         Jan|                 1|Female|       Single| 21|Policy Holder|   Sport - Liability|          Sport|more than 69000|           0|           1|       12|       300|           1|        more than 30|     more than 30|              none|     3 years|         26 to 30|               No|            No| External|               none|             1 year|      3 to 4|1994| Liability|\n",
      "|  Jan|          3|Wednesday| Honda|       Urban|          Monday|         Jan|                 4|  Male|       Single| 34|Policy Holder|   Sport - Collision|          Sport|more than 69000|           0|           2|       15|       400|           4|        more than 30|     more than 30|              none|     6 years|         31 to 35|              Yes|            No| External|               none|          no change|   1 vehicle|1994| Collision|\n",
      "|  Oct|          5|   Friday| Honda|       Urban|        Thursday|         Nov|                 2|  Male|      Married| 47|Policy Holder|   Sport - Collision|          Sport|more than 69000|           0|           3|        7|       400|           3|        more than 30|     more than 30|                 1|     7 years|         41 to 50|               No|            No| External|               none|          no change|   1 vehicle|1994| Collision|\n",
      "|  Jun|          2| Saturday|Toyota|       Rural|          Friday|         Jul|                 1|  Male|      Married| 65|  Third Party|   Sedan - Liability|          Sport| 20000 to 29000|           0|           4|        4|       400|           2|        more than 30|     more than 30|                 1| more than 7|         51 to 65|              Yes|            No| External|        more than 5|          no change|   1 vehicle|1994| Liability|\n",
      "|  Jan|          5|   Monday| Honda|       Urban|         Tuesday|         Feb|                 2|Female|       Single| 27|  Third Party|   Sport - Collision|          Sport|more than 69000|           0|           5|        3|       400|           1|        more than 30|     more than 30|              none|     5 years|         31 to 35|               No|            No| External|               none|          no change|   1 vehicle|1994| Collision|\n",
      "|  Oct|          4|   Friday| Honda|       Urban|       Wednesday|         Nov|                 1|  Male|       Single| 20|  Third Party|   Sport - Collision|          Sport|more than 69000|           0|           6|       12|       400|           3|        more than 30|     more than 30|              none|     5 years|         21 to 25|               No|            No| External|             3 to 5|          no change|   1 vehicle|1994| Collision|\n",
      "|  Feb|          1| Saturday| Honda|       Urban|          Monday|         Feb|                 3|  Male|      Married| 36|  Third Party|   Sport - Collision|          Sport|more than 69000|           0|           7|       14|       400|           1|        more than 30|     more than 30|                 1|     7 years|         36 to 40|               No|            No| External|             1 to 2|          no change|   1 vehicle|1994| Collision|\n",
      "|  Nov|          1|   Friday| Honda|       Urban|         Tuesday|         Mar|                 4|  Male|       Single|  0|Policy Holder|   Sport - Collision|          Sport|more than 69000|           0|           8|        1|       400|           4|        more than 30|     more than 30|                 1|         new|         16 to 17|               No|            No| External|               none|          no change|   1 vehicle|1994| Collision|\n",
      "|  Dec|          4| Saturday| Honda|       Urban|       Wednesday|         Dec|                 5|  Male|       Single| 30|Policy Holder|   Sport - Collision|          Sport|more than 69000|           0|           9|        7|       400|           4|        more than 30|     more than 30|              none|     6 years|         31 to 35|               No|           Yes| External|             3 to 5|          no change|   1 vehicle|1994| Collision|\n",
      "|  Apr|          3|  Tuesday|  Ford|       Urban|       Wednesday|         Apr|                 3|  Male|      Married| 42|Policy Holder|Utility - All Perils|        Utility|more than 69000|           0|          10|        7|       400|           1|        more than 30|     more than 30|            2 to 4| more than 7|         36 to 40|               No|            No| External|             3 to 5|          no change|   1 vehicle|1994|All Perils|\n",
      "+-----+-----------+---------+------+------------+----------------+------------+------------------+------+-------------+---+-------------+--------------------+---------------+---------------+------------+------------+---------+----------+------------+--------------------+-----------------+------------------+------------+-----------------+-----------------+--------------+---------+-------------------+-------------------+------------+----+----------+\n",
      "only showing top 10 rows\n",
      "\n"
     ]
    }
   ],
   "source": [
    "import itc_utils.flight_service as itcfs\n",
    "\n",
    "from pyspark.sql import SparkSession\n",
    "spark = SparkSession.builder.getOrCreate()\n",
    "spark.conf.set(\"spark.sql.execution.arrow.pyspark.enabled\", \"true\")\n",
    "\n",
    "readClient = itcfs.get_flight_client()\n",
    "\n",
    "nb_data_request = {\n",
    "    'data_name': \"\"\"insurance_claims_fraud.csv\"\"\",\n",
    "    'interaction_properties': {\n",
    "        #'row_limit': 500\n",
    "    }\n",
    "}\n",
    "\n",
    "flightInfo = itcfs.get_flight_info(readClient, nb_data_request=nb_data_request)\n",
    "\n",
    "data_df_0 = itcfs.read_pandas_and_concat(readClient, flightInfo)\n",
    "sp_df_1 = spark.createDataFrame(data_df_0)\n",
    "sp_df_1.show(10)\n"
   ]
  },
  {
   "cell_type": "code",
   "execution_count": 2,
   "id": "cellular-danger",
   "metadata": {
    "id": "7216e81a-f0d9-4c80-aa88-6e0877162033",
    "tags": []
   },
   "outputs": [
    {
     "name": "stdout",
     "output_type": "stream",
     "text": [
      "Collecting koalas\n",
      "  Downloading koalas-1.8.2-py3-none-any.whl (390 kB)\n",
      "\u001b[K     |████████████████████████████████| 390 kB 18.1 MB/s eta 0:00:01\n",
      "\u001b[?25hRequirement already satisfied: pandas>=0.23.2 in /opt/ibm/conda/miniconda3.9/lib/python3.9/site-packages (from koalas) (1.3.4)\n",
      "Requirement already satisfied: pyarrow>=0.10 in /opt/ibm/conda/miniconda3.9/lib/python3.9/site-packages (from koalas) (5.0.0)\n",
      "Requirement already satisfied: numpy>=1.14 in /opt/ibm/conda/miniconda3.9/lib/python3.9/site-packages (from koalas) (1.20.3)\n",
      "Requirement already satisfied: python-dateutil>=2.7.3 in /opt/ibm/conda/miniconda3.9/lib/python3.9/site-packages (from pandas>=0.23.2->koalas) (2.8.2)\n",
      "Requirement already satisfied: pytz>=2017.3 in /opt/ibm/conda/miniconda3.9/lib/python3.9/site-packages (from pandas>=0.23.2->koalas) (2021.3)\n",
      "Requirement already satisfied: six>=1.5 in /opt/ibm/conda/miniconda3.9/lib/python3.9/site-packages (from python-dateutil>=2.7.3->pandas>=0.23.2->koalas) (1.15.0)\n",
      "Installing collected packages: koalas\n",
      "Successfully installed koalas-1.8.2\n"
     ]
    }
   ],
   "source": [
    "!pip install koalas"
   ]
  },
  {
   "cell_type": "code",
   "execution_count": 3,
   "id": "danish-damage",
   "metadata": {
    "id": "967d08f3-5ef5-4aab-b506-24602164775c",
    "tags": []
   },
   "outputs": [
    {
     "ename": "ModuleNotFoundError",
     "evalue": "No module named 'koalas'",
     "output_type": "error",
     "traceback": [
      "\u001b[0;31m---------------------------------------------------------------------------\u001b[0m",
      "\u001b[0;31mModuleNotFoundError\u001b[0m                       Traceback (most recent call last)",
      "\u001b[0;32m/usr/local/share/jupyter/kernels/python39/scripts/launch_ipykernel.py\u001b[0m in \u001b[0;36m<module>\u001b[0;34m\u001b[0m\n\u001b[1;32m      1\u001b[0m \u001b[0;32mimport\u001b[0m \u001b[0mpandas\u001b[0m \u001b[0;32mas\u001b[0m \u001b[0mpd\u001b[0m\u001b[0;34m\u001b[0m\u001b[0;34m\u001b[0m\u001b[0m\n\u001b[0;32m----> 2\u001b[0;31m \u001b[0;32mimport\u001b[0m \u001b[0mkoalas\u001b[0m \u001b[0;32mas\u001b[0m \u001b[0mkd\u001b[0m\u001b[0;34m\u001b[0m\u001b[0;34m\u001b[0m\u001b[0m\n\u001b[0m",
      "\u001b[0;31mModuleNotFoundError\u001b[0m: No module named 'koalas'"
     ]
    }
   ],
   "source": [
    "import pandas as pd\n",
    "import koalas as kd"
   ]
  },
  {
   "cell_type": "code",
   "execution_count": null,
   "id": "alpha-marine",
   "metadata": {
    "id": "a5d22aab-6157-450b-974b-156b0e22f762"
   },
   "outputs": [],
   "source": []
  }
 ],
 "metadata": {
  "kernelspec": {
   "display_name": "Python 3.9 with Spark",
   "language": "python3",
   "name": "python39"
  },
  "language_info": {
   "codemirror_mode": {
    "name": "ipython",
    "version": 3
   },
   "file_extension": ".py",
   "mimetype": "text/x-python",
   "name": "python",
   "nbconvert_exporter": "python",
   "pygments_lexer": "ipython3",
   "version": "3.9.7"
  }
 },
 "nbformat": 4,
 "nbformat_minor": 5
}
