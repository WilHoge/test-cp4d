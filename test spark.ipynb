{
 "cells": [
  {
   "cell_type": "code",
   "execution_count": 2,
   "id": "individual-corpus",
   "metadata": {
    "id": "45f14641-6b30-4ccc-b7da-a0d848f0ada0",
    "tags": []
   },
   "outputs": [
    {
     "name": "stdout",
     "output_type": "stream",
     "text": [
      "5\n"
     ]
    }
   ],
   "source": [
    "a=5\n",
    "print(a)"
   ]
  },
  {
   "cell_type": "code",
   "execution_count": 3,
   "id": "hungry-controversy",
   "metadata": {
    "id": "afaebaa7-393d-45fb-bf3a-24d204694b3d",
    "tags": []
   },
   "outputs": [
    {
     "name": "stdout",
     "output_type": "stream",
     "text": [
      "+-----+-----------+---------+------+------------+----------------+------------+------------------+------+-------------+---+-------------+--------------------+---------------+---------------+------------+------------+---------+----------+------------+--------------------+-----------------+------------------+------------+-----------------+-----------------+--------------+---------+-------------------+-------------------+------------+----+----------+\n",
      "|Month|WeekOfMonth|DayOfWeek|  Make|AccidentArea|DayOfWeekClaimed|MonthClaimed|WeekOfMonthClaimed|   Sex|MaritalStatus|Age|        Fault|          PolicyType|VehicleCategory|   VehiclePrice|FraudFound_P|PolicyNumber|RepNumber|Deductible|DriverRating|Days_Policy_Accident|Days_Policy_Claim|PastNumberOfClaims|AgeOfVehicle|AgeOfPolicyHolder|PoliceReportFiled|WitnessPresent|AgentType|NumberOfSuppliments|AddressChange_Claim|NumberOfCars|Year|BasePolicy|\n",
      "+-----+-----------+---------+------+------------+----------------+------------+------------------+------+-------------+---+-------------+--------------------+---------------+---------------+------------+------------+---------+----------+------------+--------------------+-----------------+------------------+------------+-----------------+-----------------+--------------+---------+-------------------+-------------------+------------+----+----------+\n",
      "|  Dec|          5|Wednesday| Honda|       Urban|         Tuesday|         Jan|                 1|Female|       Single| 21|Policy Holder|   Sport - Liability|          Sport|more than 69000|           0|           1|       12|       300|           1|        more than 30|     more than 30|              none|     3 years|         26 to 30|               No|            No| External|               none|             1 year|      3 to 4|1994| Liability|\n",
      "|  Jan|          3|Wednesday| Honda|       Urban|          Monday|         Jan|                 4|  Male|       Single| 34|Policy Holder|   Sport - Collision|          Sport|more than 69000|           0|           2|       15|       400|           4|        more than 30|     more than 30|              none|     6 years|         31 to 35|              Yes|            No| External|               none|          no change|   1 vehicle|1994| Collision|\n",
      "|  Oct|          5|   Friday| Honda|       Urban|        Thursday|         Nov|                 2|  Male|      Married| 47|Policy Holder|   Sport - Collision|          Sport|more than 69000|           0|           3|        7|       400|           3|        more than 30|     more than 30|                 1|     7 years|         41 to 50|               No|            No| External|               none|          no change|   1 vehicle|1994| Collision|\n",
      "|  Jun|          2| Saturday|Toyota|       Rural|          Friday|         Jul|                 1|  Male|      Married| 65|  Third Party|   Sedan - Liability|          Sport| 20000 to 29000|           0|           4|        4|       400|           2|        more than 30|     more than 30|                 1| more than 7|         51 to 65|              Yes|            No| External|        more than 5|          no change|   1 vehicle|1994| Liability|\n",
      "|  Jan|          5|   Monday| Honda|       Urban|         Tuesday|         Feb|                 2|Female|       Single| 27|  Third Party|   Sport - Collision|          Sport|more than 69000|           0|           5|        3|       400|           1|        more than 30|     more than 30|              none|     5 years|         31 to 35|               No|            No| External|               none|          no change|   1 vehicle|1994| Collision|\n",
      "|  Oct|          4|   Friday| Honda|       Urban|       Wednesday|         Nov|                 1|  Male|       Single| 20|  Third Party|   Sport - Collision|          Sport|more than 69000|           0|           6|       12|       400|           3|        more than 30|     more than 30|              none|     5 years|         21 to 25|               No|            No| External|             3 to 5|          no change|   1 vehicle|1994| Collision|\n",
      "|  Feb|          1| Saturday| Honda|       Urban|          Monday|         Feb|                 3|  Male|      Married| 36|  Third Party|   Sport - Collision|          Sport|more than 69000|           0|           7|       14|       400|           1|        more than 30|     more than 30|                 1|     7 years|         36 to 40|               No|            No| External|             1 to 2|          no change|   1 vehicle|1994| Collision|\n",
      "|  Nov|          1|   Friday| Honda|       Urban|         Tuesday|         Mar|                 4|  Male|       Single|  0|Policy Holder|   Sport - Collision|          Sport|more than 69000|           0|           8|        1|       400|           4|        more than 30|     more than 30|                 1|         new|         16 to 17|               No|            No| External|               none|          no change|   1 vehicle|1994| Collision|\n",
      "|  Dec|          4| Saturday| Honda|       Urban|       Wednesday|         Dec|                 5|  Male|       Single| 30|Policy Holder|   Sport - Collision|          Sport|more than 69000|           0|           9|        7|       400|           4|        more than 30|     more than 30|              none|     6 years|         31 to 35|               No|           Yes| External|             3 to 5|          no change|   1 vehicle|1994| Collision|\n",
      "|  Apr|          3|  Tuesday|  Ford|       Urban|       Wednesday|         Apr|                 3|  Male|      Married| 42|Policy Holder|Utility - All Perils|        Utility|more than 69000|           0|          10|        7|       400|           1|        more than 30|     more than 30|            2 to 4| more than 7|         36 to 40|               No|            No| External|             3 to 5|          no change|   1 vehicle|1994|All Perils|\n",
      "+-----+-----------+---------+------+------------+----------------+------------+------------------+------+-------------+---+-------------+--------------------+---------------+---------------+------------+------------+---------+----------+------------+--------------------+-----------------+------------------+------------+-----------------+-----------------+--------------+---------+-------------------+-------------------+------------+----+----------+\n",
      "only showing top 10 rows\n",
      "\n"
     ]
    }
   ],
   "source": [
    "import itc_utils.flight_service as itcfs\n",
    "\n",
    "from pyspark.sql import SparkSession\n",
    "spark = SparkSession.builder.getOrCreate()\n",
    "spark.conf.set(\"spark.sql.execution.arrow.pyspark.enabled\", \"true\")\n",
    "\n",
    "readClient = itcfs.get_flight_client()\n",
    "\n",
    "nb_data_request = {\n",
    "    'data_name': \"\"\"insurance_claims_fraud.csv\"\"\",\n",
    "    'interaction_properties': {\n",
    "        #'row_limit': 500\n",
    "    }\n",
    "}\n",
    "\n",
    "flightInfo = itcfs.get_flight_info(readClient, nb_data_request=nb_data_request)\n",
    "\n",
    "data_df_0 = itcfs.read_pandas_and_concat(readClient, flightInfo)\n",
    "sp_df_1 = spark.createDataFrame(data_df_0)\n",
    "sp_df_1.show(10)\n"
   ]
  },
  {
   "cell_type": "code",
   "execution_count": null,
   "id": "terminal-jacksonville",
   "metadata": {
    "id": "7216e81a-f0d9-4c80-aa88-6e0877162033"
   },
   "outputs": [],
   "source": []
  }
 ],
 "metadata": {
  "kernelspec": {
   "display_name": "Python 3.9 with Spark",
   "language": "python3",
   "name": "python39"
  },
  "language_info": {
   "codemirror_mode": {
    "name": "ipython",
    "version": 3
   },
   "file_extension": ".py",
   "mimetype": "text/x-python",
   "name": "python",
   "nbconvert_exporter": "python",
   "pygments_lexer": "ipython3",
   "version": "3.9.7"
  }
 },
 "nbformat": 4,
 "nbformat_minor": 5
}
